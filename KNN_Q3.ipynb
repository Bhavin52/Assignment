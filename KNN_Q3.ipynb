{
  "nbformat": 4,
  "nbformat_minor": 0,
  "metadata": {
    "colab": {
      "name": "KNN_Q3.ipynb",
      "provenance": [],
      "authorship_tag": "ABX9TyPlDgkeGQpneAzGE3b4hyNA",
      "include_colab_link": true
    },
    "kernelspec": {
      "name": "python3",
      "display_name": "Python 3"
    },
    "language_info": {
      "name": "python"
    }
  },
  "cells": [
    {
      "cell_type": "markdown",
      "metadata": {
        "id": "view-in-github",
        "colab_type": "text"
      },
      "source": [
        "<a href=\"https://colab.research.google.com/github/Bhavin52/Case_Study/blob/main/KNN_Q3.ipynb\" target=\"_parent\"><img src=\"https://colab.research.google.com/assets/colab-badge.svg\" alt=\"Open In Colab\"/></a>"
      ]
    },
    {
      "cell_type": "code",
      "execution_count": 1,
      "metadata": {
        "id": "AwzAN1z9nQoQ"
      },
      "outputs": [],
      "source": [
        "import pandas as pd\n",
        "import numpy as np\n"
      ]
    },
    {
      "cell_type": "code",
      "source": [
        "iris = pd.read_csv(\"/content/iris.csv\")\n"
      ],
      "metadata": {
        "id": "qJR9b68mnen8"
      },
      "execution_count": 2,
      "outputs": []
    },
    {
      "cell_type": "code",
      "source": [
        "# Training and Test data using \n",
        "from sklearn.model_selection import train_test_split\n",
        "train,test = train_test_split(iris,test_size = 0.2) # 0.2 => 20 percent of entire data "
      ],
      "metadata": {
        "id": "DIEjUsn8nuC6"
      },
      "execution_count": 3,
      "outputs": []
    },
    {
      "cell_type": "code",
      "source": [
        "\n",
        "# KNN using sklearn \n",
        "# Importing Knn algorithm from sklearn.neighbors\n",
        "from sklearn.neighbors import KNeighborsClassifier as KNC"
      ],
      "metadata": {
        "id": "9bsfaXg-nvTU"
      },
      "execution_count": 4,
      "outputs": []
    },
    {
      "cell_type": "code",
      "source": [
        "# for 3 nearest neighbours \n",
        "neigh = KNC(n_neighbors= 3)"
      ],
      "metadata": {
        "id": "X1y0hsBSnxtC"
      },
      "execution_count": 5,
      "outputs": []
    },
    {
      "cell_type": "code",
      "source": [
        "# Fitting with training data \n",
        "neigh.fit(train.iloc[:,0:4],train.iloc[:,4])"
      ],
      "metadata": {
        "colab": {
          "base_uri": "https://localhost:8080/"
        },
        "id": "FEGozHhinzVl",
        "outputId": "98c982a3-fb7a-4872-a5d7-267a19102bef"
      },
      "execution_count": 6,
      "outputs": [
        {
          "output_type": "execute_result",
          "data": {
            "text/plain": [
              "KNeighborsClassifier(n_neighbors=3)"
            ]
          },
          "metadata": {},
          "execution_count": 6
        }
      ]
    },
    {
      "cell_type": "code",
      "source": [
        "# train accuracy \n",
        "train_acc = np.mean(neigh.predict(train.iloc[:,0:4])==train.iloc[:,4]) # 94 %\n"
      ],
      "metadata": {
        "id": "g0W8qQeHn-Pp"
      },
      "execution_count": 7,
      "outputs": []
    },
    {
      "cell_type": "code",
      "source": [
        "# test accuracy\n",
        "test_acc = np.mean(neigh.predict(test.iloc[:,0:4])==test.iloc[:,4]) # 100%\n"
      ],
      "metadata": {
        "id": "BsxruL7kn-52"
      },
      "execution_count": 8,
      "outputs": []
    },
    {
      "cell_type": "code",
      "source": [
        "# for 5 nearest neighbours\n",
        "neigh = KNC(n_neighbors=5)"
      ],
      "metadata": {
        "id": "N3iGh8xvoCEt"
      },
      "execution_count": 9,
      "outputs": []
    },
    {
      "cell_type": "code",
      "source": [
        "# fitting with training data\n",
        "neigh.fit(train.iloc[:,0:4],train.iloc[:,4])"
      ],
      "metadata": {
        "colab": {
          "base_uri": "https://localhost:8080/"
        },
        "id": "A5X3O6L8oEKm",
        "outputId": "01e610be-5bbe-485b-d15d-6ca10f289e67"
      },
      "execution_count": 10,
      "outputs": [
        {
          "output_type": "execute_result",
          "data": {
            "text/plain": [
              "KNeighborsClassifier()"
            ]
          },
          "metadata": {},
          "execution_count": 10
        }
      ]
    },
    {
      "cell_type": "code",
      "source": [
        "# train accuracy \n",
        "train_acc = np.mean(neigh.predict(train.iloc[:,0:4])==train.iloc[:,4])"
      ],
      "metadata": {
        "id": "_oSni0OXoFnP"
      },
      "execution_count": 11,
      "outputs": []
    },
    {
      "cell_type": "code",
      "source": [
        "# test accuracy\n",
        "test_acc = np.mean(neigh.predict(test.iloc[:,0:4])==test.iloc[:,4])"
      ],
      "metadata": {
        "id": "--9jOJCboHZJ"
      },
      "execution_count": 12,
      "outputs": []
    },
    {
      "cell_type": "code",
      "source": [
        "# creating empty list variable \n",
        "acc = []"
      ],
      "metadata": {
        "id": "I0rXIBrMoJDy"
      },
      "execution_count": 13,
      "outputs": []
    },
    {
      "cell_type": "code",
      "source": [
        "# running KNN algorithm for 3 to 50 nearest neighbours(odd numbers) and \n",
        "# storing the accuracy values \n",
        " \n",
        "for i in range(3,50,2):\n",
        "    neigh = KNC(n_neighbors=i)\n",
        "    neigh.fit(train.iloc[:,0:4],train.iloc[:,4])\n",
        "    train_acc = np.mean(neigh.predict(train.iloc[:,0:4])==train.iloc[:,4])\n",
        "    test_acc = np.mean(neigh.predict(test.iloc[:,0:4])==test.iloc[:,4])\n",
        "    acc.append([train_acc,test_acc])\n"
      ],
      "metadata": {
        "id": "rqyF1GT7oKxJ"
      },
      "execution_count": 14,
      "outputs": []
    },
    {
      "cell_type": "code",
      "source": [
        "import matplotlib.pyplot as plt # library to do visualizations \n"
      ],
      "metadata": {
        "id": "iJ9LczeToM_V"
      },
      "execution_count": 15,
      "outputs": []
    },
    {
      "cell_type": "code",
      "source": [
        "# train accuracy plot \n",
        "plt.plot(np.arange(3,50,2),[i[0] for i in acc],\"bo-\")"
      ],
      "metadata": {
        "colab": {
          "base_uri": "https://localhost:8080/",
          "height": 282
        },
        "id": "CHrvNmkLoRzu",
        "outputId": "82b823b6-8eeb-4785-bcac-58a0af15ad88"
      },
      "execution_count": 16,
      "outputs": [
        {
          "output_type": "execute_result",
          "data": {
            "text/plain": [
              "[<matplotlib.lines.Line2D at 0x7f60eec28cd0>]"
            ]
          },
          "metadata": {},
          "execution_count": 16
        },
        {
          "output_type": "display_data",
          "data": {
            "text/plain": [
              "<Figure size 432x288 with 1 Axes>"
            ],
            "image/png": "[encoded data removed]"
          },
          "metadata": {
            "needs_background": "light"
          }
        }
      ]
    },
    {
      "cell_type": "code",
      "source": [
        "# test accuracy plot\n",
        "plt.plot(np.arange(3,50,2),[i[1] for i in acc],\"ro-\")\n"
      ],
      "metadata": {
        "colab": {
          "base_uri": "https://localhost:8080/",
          "height": 282
        },
        "id": "B7WEcIy3oT1T",
        "outputId": "d339e0c4-95c4-4a05-bb65-67e95cb02263"
      },
      "execution_count": 17,
      "outputs": [
        {
          "output_type": "execute_result",
          "data": {
            "text/plain": [
              "[<matplotlib.lines.Line2D at 0x7f60d6fa9810>]"
            ]
          },
          "metadata": {},
          "execution_count": 17
        },
        {
          "output_type": "display_data",
          "data": {
            "text/plain": [
              "<Figure size 432x288 with 1 Axes>"
            ],
            "image/png": "[encoded data removed]"
          },
          "metadata": {
            "needs_background": "light"
          }
        }
      ]
    },
    {
      "cell_type": "code",
      "source": [
        "plt.legend([\"train\",\"test\"])"
      ],
      "metadata": {
        "colab": {
          "base_uri": "https://localhost:8080/",
          "height": 286
        },
        "id": "AB0IJzvooZAw",
        "outputId": "65086db7-5e6d-4cdf-dec1-b7d8b2b2f52f"
      },
      "execution_count": 18,
      "outputs": [
        {
          "output_type": "execute_result",
          "data": {
            "text/plain": [
              "<matplotlib.legend.Legend at 0x7f60d6ff2850>"
            ]
          },
          "metadata": {},
          "execution_count": 18
        },
        {
          "output_type": "display_data",
          "data": {
            "text/plain": [
              "<Figure size 432x288 with 1 Axes>"
            ],
            "image/png": "[encoded data removed]"
          },
          "metadata": {
            "needs_background": "light"
          }
        }
      ]
    },
    {
      "cell_type": "code",
      "source": [
        ""
      ],
      "metadata": {
        "id": "ovb-_wNXoeLJ"
      },
      "execution_count": null,
      "outputs": []
    }
  ]
}