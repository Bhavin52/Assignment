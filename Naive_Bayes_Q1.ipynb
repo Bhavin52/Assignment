{
  "nbformat": 4,
  "nbformat_minor": 0,
  "metadata": {
    "colab": {
      "name": "Naive Bayes_Q1.ipynb",
      "provenance": [],
      "authorship_tag": "ABX9TyMvtArbLxuEgcVy86NfKvxd",
      "include_colab_link": true
    },
    "kernelspec": {
      "name": "python3",
      "display_name": "Python 3"
    },
    "language_info": {
      "name": "python"
    }
  },
  "cells": [
    {
      "cell_type": "markdown",
      "metadata": {
        "id": "view-in-github",
        "colab_type": "text"
      },
      "source": [
        "<a href=\"https://colab.research.google.com/github/Bhavin52/Case_Study/blob/main/Naive_Bayes_Q1.ipynb\" target=\"_parent\"><img src=\"https://colab.research.google.com/assets/colab-badge.svg\" alt=\"Open In Colab\"/></a>"
      ]
    },
    {
      "cell_type": "code",
      "source": [
        "import numpy as np\n",
        "import pandas as pd"
      ],
      "metadata": {
        "id": "_al6G_pHoOfw"
      },
      "execution_count": 15,
      "outputs": []
    },
    {
      "cell_type": "code",
      "execution_count": 16,
      "metadata": {
        "id": "jccf3hXah5iO"
      },
      "outputs": [],
      "source": [
        "salary_train = pd.read_csv(\"/content/SalaryData_Train.csv\")\n",
        "salary_test = pd.read_csv(\"/content/SalaryData_Test.csv\")\n",
        "string_columns=[\"workclass\",\"education\",\"maritalstatus\",\"occupation\",\"relationship\",\"race\",\"sex\",\"native\"]"
      ]
    },
    {
      "cell_type": "code",
      "source": [
        "from sklearn import preprocessing\n",
        "number = preprocessing.LabelEncoder()"
      ],
      "metadata": {
        "id": "5UeYF9IEoY3F"
      },
      "execution_count": 17,
      "outputs": []
    },
    {
      "cell_type": "code",
      "source": [
        "for i in string_columns:\n",
        "    salary_train[i] = number.fit_transform(salary_train[i])\n",
        "    salary_test[i] = number.fit_transform(salary_test[i])\n"
      ],
      "metadata": {
        "id": "BSybMQsnobkU"
      },
      "execution_count": 18,
      "outputs": []
    },
    {
      "cell_type": "code",
      "source": [
        "colnames = salary_train.columns\n",
        "len(colnames[0:13])\n",
        "trainX = salary_train[colnames[0:13]]\n",
        "trainY = salary_train[colnames[13]]\n",
        "testX  = salary_test[colnames[0:13]]\n",
        "testY  = salary_test[colnames[13]]"
      ],
      "metadata": {
        "id": "sSfYi9uBofwX"
      },
      "execution_count": 19,
      "outputs": []
    },
    {
      "cell_type": "code",
      "source": [
        "from sklearn.metrics import confusion_matrix\n",
        "from sklearn.naive_bayes import GaussianNB\n",
        "from sklearn.naive_bayes import MultinomialNB\n",
        "sgnb = GaussianNB()\n",
        "smnb = MultinomialNB()\n",
        "spred_gnb = sgnb.fit(trainX,trainY).predict(testX)\n",
        "confusion_matrix(testY,spred_gnb)"
      ],
      "metadata": {
        "colab": {
          "base_uri": "https://localhost:8080/"
        },
        "id": "BASuoO7kojTU",
        "outputId": "022031f6-f96e-4500-af06-0ae193f55e72"
      },
      "execution_count": 20,
      "outputs": [
        {
          "output_type": "execute_result",
          "data": {
            "text/plain": [
              "array([[10759,   601],\n",
              "       [ 2491,  1209]])"
            ]
          },
          "metadata": {},
          "execution_count": 20
        }
      ]
    },
    {
      "cell_type": "code",
      "source": [
        "print (\"Accuracy\",(10759+1209)/(10759+601+2491+1209))"
      ],
      "metadata": {
        "colab": {
          "base_uri": "https://localhost:8080/"
        },
        "id": "MutXVkjAp5M9",
        "outputId": "14a8044d-c460-4c59-c01b-9b40f5062e0f"
      },
      "execution_count": 21,
      "outputs": [
        {
          "output_type": "stream",
          "name": "stdout",
          "text": [
            "Accuracy 0.7946879150066402\n"
          ]
        }
      ]
    },
    {
      "cell_type": "code",
      "source": [
        "spred_mnb = smnb.fit(trainX,trainY).predict(testX)\n",
        "confusion_matrix(testY,spred_mnb)\n"
      ],
      "metadata": {
        "colab": {
          "base_uri": "https://localhost:8080/"
        },
        "id": "efkJQfYmp6_X",
        "outputId": "9cfaad36-6383-4322-bca0-044f07338c72"
      },
      "execution_count": 22,
      "outputs": [
        {
          "output_type": "execute_result",
          "data": {
            "text/plain": [
              "array([[10891,   469],\n",
              "       [ 2920,   780]])"
            ]
          },
          "metadata": {},
          "execution_count": 22
        }
      ]
    },
    {
      "cell_type": "code",
      "source": [
        "print(\"Accuracy\",(10891+780)/(10891+780+2920+780))"
      ],
      "metadata": {
        "colab": {
          "base_uri": "https://localhost:8080/"
        },
        "id": "DiMwupIMp-VH",
        "outputId": "23abb33e-703f-451d-e868-c8c573a4edcd"
      },
      "execution_count": 23,
      "outputs": [
        {
          "output_type": "stream",
          "name": "stdout",
          "text": [
            "Accuracy 0.7592869689675362\n"
          ]
        }
      ]
    }
  ]
}