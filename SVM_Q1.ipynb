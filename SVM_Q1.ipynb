{
  "nbformat": 4,
  "nbformat_minor": 0,
  "metadata": {
    "colab": {
      "name": "Untitled41.ipynb",
      "provenance": [],
      "authorship_tag": "ABX9TyPyhJdzoaHkl+OzWXfhx3xE",
      "include_colab_link": true
    },
    "kernelspec": {
      "name": "python3",
      "display_name": "Python 3"
    },
    "language_info": {
      "name": "python"
    }
  },
  "cells": [
    {
      "cell_type": "markdown",
      "metadata": {
        "id": "view-in-github",
        "colab_type": "text"
      },
      "source": [
        "<a href=\"https://colab.research.google.com/github/Bhavin52/Case_Study/blob/main/SVM_Q1.ipynb\" target=\"_parent\"><img src=\"https://colab.research.google.com/assets/colab-badge.svg\" alt=\"Open In Colab\"/></a>"
      ]
    },
    {
      "cell_type": "code",
      "execution_count": 1,
      "metadata": {
        "id": "hhx4ZxT9KwQG"
      },
      "outputs": [],
      "source": [
        "# SVM Classification\n",
        "import pandas as pd\n",
        "import numpy as np"
      ]
    },
    {
      "cell_type": "code",
      "source": [
        "from sklearn import svm\n",
        "from sklearn.svm import SVC\n",
        "from sklearn.model_selection import GridSearchCV\n",
        "from sklearn.metrics import classification_report"
      ],
      "metadata": {
        "id": "G2dJtO27L8ao"
      },
      "execution_count": 2,
      "outputs": []
    },
    {
      "cell_type": "code",
      "source": [
        "from sklearn.metrics import accuracy_score, confusion_matrix\n",
        "from sklearn.model_selection import train_test_split, cross_val_score"
      ],
      "metadata": {
        "id": "pI_QnMulMCmZ"
      },
      "execution_count": 3,
      "outputs": []
    },
    {
      "cell_type": "code",
      "source": [
        "salary_train = pd.read_csv(\"/content/SalaryData_Train.csv\")\n",
        "salary_test = pd.read_csv(\"/content/SalaryData_Test.csv\")\n",
        "string_columns=[\"workclass\",\"education\",\"maritalstatus\",\"occupation\",\"relationship\",\"race\",\"sex\",\"native\"]"
      ],
      "metadata": {
        "id": "58VUhgfGMEqt"
      },
      "execution_count": 4,
      "outputs": []
    },
    {
      "cell_type": "code",
      "source": [
        "from sklearn import preprocessing\n",
        "number = preprocessing.LabelEncoder()"
      ],
      "metadata": {
        "id": "JggspBqFMsGV"
      },
      "execution_count": 5,
      "outputs": []
    },
    {
      "cell_type": "code",
      "source": [
        "for i in string_columns:\n",
        "    salary_train[i] = number.fit_transform(salary_train[i])\n",
        "    salary_test[i] = number.fit_transform(salary_test[i])"
      ],
      "metadata": {
        "id": "HxtGDSAkMu1e"
      },
      "execution_count": 6,
      "outputs": []
    },
    {
      "cell_type": "code",
      "source": [
        "colnames = salary_train.columns\n",
        "len(colnames[0:13])\n",
        "trainX = salary_train[colnames[0:13]]\n",
        "trainY = salary_train[colnames[13]]\n",
        "testX  = salary_test[colnames[0:13]]\n",
        "testY  = salary_test[colnames[13]]"
      ],
      "metadata": {
        "id": "bAfGee6pMw6-"
      },
      "execution_count": 7,
      "outputs": []
    },
    {
      "cell_type": "code",
      "source": [
        "clf = SVC()\n",
        "param_grid = [{'kernel':['rbf'],'gamma':[1, 0.1, 0.01, 0.001, 0.0001],'C':[1, 5, 10, 15, 20] }]\n",
        "gsv = GridSearchCV(clf,param_grid,cv=10)\n",
        "gsv.fit(X_train,y_train)"
      ],
      "metadata": {
        "id": "plqsQmjCMzTI"
      },
      "execution_count": null,
      "outputs": []
    },
    {
      "cell_type": "code",
      "source": [
        "gsv.best_params_ , gsv.best_score_"
      ],
      "metadata": {
        "id": "8lQk-3GkNHNU"
      },
      "execution_count": null,
      "outputs": []
    },
    {
      "cell_type": "code",
      "source": [
        "clf = SVC(C= 15, gamma = 0.001)\n",
        "clf.fit(trainX ,trainY)\n",
        "predY = clf.predict(testX)\n",
        "acc = accuracy_score(testX, testY) * 100\n",
        "print(\"Accuracy =\", acc)\n",
        "confusion_matrix(testX,predY)"
      ],
      "metadata": {
        "id": "qczamgRBVoMW"
      },
      "execution_count": null,
      "outputs": []
    }
  ]
}