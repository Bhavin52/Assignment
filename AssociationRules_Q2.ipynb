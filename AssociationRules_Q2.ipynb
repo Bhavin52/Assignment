{
  "nbformat": 4,
  "nbformat_minor": 0,
  "metadata": {
    "colab": {
      "name": "AssociationRules_Q2.ipynb",
      "provenance": [],
      "authorship_tag": "ABX9TyNLutqR5UfLw4vmRvfqfiqR",
      "include_colab_link": true
    },
    "kernelspec": {
      "name": "python3",
      "display_name": "Python 3"
    },
    "language_info": {
      "name": "python"
    }
  },
  "cells": [
    {
      "cell_type": "markdown",
      "metadata": {
        "id": "view-in-github",
        "colab_type": "text"
      },
      "source": [
        "<a href=\"https://colab.research.google.com/github/Bhavin52/Case_Study/blob/main/AssociationRules_Q2.ipynb\" target=\"_parent\"><img src=\"https://colab.research.google.com/assets/colab-badge.svg\" alt=\"Open In Colab\"/></a>"
      ]
    },
    {
      "cell_type": "code",
      "execution_count": 1,
      "metadata": {
        "id": "rqGOmBwR-_Kx"
      },
      "outputs": [],
      "source": [
        "import pandas as pd\n",
        "from mlxtend.frequent_patterns import apriori,association_rules"
      ]
    },
    {
      "cell_type": "code",
      "source": [
        "groceries = []"
      ],
      "metadata": {
        "id": "KoyHb1-4gbqP"
      },
      "execution_count": 2,
      "outputs": []
    },
    {
      "cell_type": "code",
      "source": [
        "with open(\"/content/groceries.csv\") as f:\n",
        "    groceries = f.read()"
      ],
      "metadata": {
        "id": "DYqNpmLNgdcR"
      },
      "execution_count": 3,
      "outputs": []
    },
    {
      "cell_type": "code",
      "source": [
        "# splitting the data into separate transactions using separator as \"\\n\"\n",
        "groceries = groceries.split(\"\\n\")"
      ],
      "metadata": {
        "id": "iy38wk8vha13"
      },
      "execution_count": 6,
      "outputs": []
    },
    {
      "cell_type": "code",
      "source": [
        "groceries_list = []\n",
        "for i in groceries:\n",
        "    groceries_list.append(i.split(\",\"))"
      ],
      "metadata": {
        "id": "zZBNTqPshqNM"
      },
      "execution_count": 9,
      "outputs": []
    },
    {
      "cell_type": "code",
      "source": [
        "\n",
        "all_groceries_list = [i for item in groceries_list for i in item]\n",
        "from collections import Counter"
      ],
      "metadata": {
        "id": "p3kaZAlUhtsR"
      },
      "execution_count": 10,
      "outputs": []
    },
    {
      "cell_type": "code",
      "source": [
        "item_frequencies = Counter(all_groceries_list)"
      ],
      "metadata": {
        "id": "gTeD-bceh5Xe"
      },
      "execution_count": 11,
      "outputs": []
    },
    {
      "cell_type": "code",
      "source": [
        "# after sorting\n",
        "#item_frequencies = sorted(item_frequencies.items(),key = lambda x:x[1])\n",
        "item_frequencies = sorted(item_frequencies.items(),key = lambda x:x[1])"
      ],
      "metadata": {
        "id": "9sTf9CsJh8fc"
      },
      "execution_count": 12,
      "outputs": []
    },
    {
      "cell_type": "code",
      "source": [
        "# Storing frequencies and items in separate variables \n",
        "frequencies = list(reversed([i[1] for i in item_frequencies]))\n",
        "items = list(reversed([i[0] for i in item_frequencies]))"
      ],
      "metadata": {
        "id": "5y-pCcx2h_RJ"
      },
      "execution_count": 13,
      "outputs": []
    },
    {
      "cell_type": "code",
      "source": [
        "import matplotlib.pyplot as plt\n",
        "\n",
        "plt.bar(height = frequencies[0:11],left = list(range(0,11)),color='rgbkymc');plt.xticks(list(range(0,11),),items[0:11]);plt.xlabel(\"items\")\n",
        "plt.ylabel(\"Count\")"
      ],
      "metadata": {
        "colab": {
          "base_uri": "https://localhost:8080/",
          "height": 235
        },
        "id": "zj9-qLeCiMxJ",
        "outputId": "f2ccc82a-8e25-4cbc-8f07-bb810cc91ff9"
      },
      "execution_count": 15,
      "outputs": [
        {
          "output_type": "error",
          "ename": "TypeError",
          "evalue": "ignored",
          "traceback": [
            "\u001b[0;31m---------------------------------------------------------------------------\u001b[0m",
            "\u001b[0;31mTypeError\u001b[0m                                 Traceback (most recent call last)",
            "\u001b[0;32m<ipython-input-15-5407cbe20726>\u001b[0m in \u001b[0;36m<module>\u001b[0;34m()\u001b[0m\n\u001b[1;32m      1\u001b[0m \u001b[0;32mimport\u001b[0m \u001b[0mmatplotlib\u001b[0m\u001b[0;34m.\u001b[0m\u001b[0mpyplot\u001b[0m \u001b[0;32mas\u001b[0m \u001b[0mplt\u001b[0m\u001b[0;34m\u001b[0m\u001b[0;34m\u001b[0m\u001b[0m\n\u001b[1;32m      2\u001b[0m \u001b[0;34m\u001b[0m\u001b[0m\n\u001b[0;32m----> 3\u001b[0;31m \u001b[0mplt\u001b[0m\u001b[0;34m.\u001b[0m\u001b[0mbar\u001b[0m\u001b[0;34m(\u001b[0m\u001b[0mheight\u001b[0m \u001b[0;34m=\u001b[0m \u001b[0mfrequencies\u001b[0m\u001b[0;34m[\u001b[0m\u001b[0;36m0\u001b[0m\u001b[0;34m:\u001b[0m\u001b[0;36m11\u001b[0m\u001b[0;34m]\u001b[0m\u001b[0;34m,\u001b[0m\u001b[0mleft\u001b[0m \u001b[0;34m=\u001b[0m \u001b[0mlist\u001b[0m\u001b[0;34m(\u001b[0m\u001b[0mrange\u001b[0m\u001b[0;34m(\u001b[0m\u001b[0;36m0\u001b[0m\u001b[0;34m,\u001b[0m\u001b[0;36m11\u001b[0m\u001b[0;34m)\u001b[0m\u001b[0;34m)\u001b[0m\u001b[0;34m,\u001b[0m\u001b[0mcolor\u001b[0m\u001b[0;34m=\u001b[0m\u001b[0;34m'rgbkymc'\u001b[0m\u001b[0;34m)\u001b[0m\u001b[0;34m;\u001b[0m\u001b[0mplt\u001b[0m\u001b[0;34m.\u001b[0m\u001b[0mxticks\u001b[0m\u001b[0;34m(\u001b[0m\u001b[0mlist\u001b[0m\u001b[0;34m(\u001b[0m\u001b[0mrange\u001b[0m\u001b[0;34m(\u001b[0m\u001b[0;36m0\u001b[0m\u001b[0;34m,\u001b[0m\u001b[0;36m11\u001b[0m\u001b[0;34m)\u001b[0m\u001b[0;34m,\u001b[0m\u001b[0;34m)\u001b[0m\u001b[0;34m,\u001b[0m\u001b[0mitems\u001b[0m\u001b[0;34m[\u001b[0m\u001b[0;36m0\u001b[0m\u001b[0;34m:\u001b[0m\u001b[0;36m11\u001b[0m\u001b[0;34m]\u001b[0m\u001b[0;34m)\u001b[0m\u001b[0;34m;\u001b[0m\u001b[0mplt\u001b[0m\u001b[0;34m.\u001b[0m\u001b[0mxlabel\u001b[0m\u001b[0;34m(\u001b[0m\u001b[0;34m\"items\"\u001b[0m\u001b[0;34m)\u001b[0m\u001b[0;34m\u001b[0m\u001b[0;34m\u001b[0m\u001b[0m\n\u001b[0m\u001b[1;32m      4\u001b[0m \u001b[0mplt\u001b[0m\u001b[0;34m.\u001b[0m\u001b[0mylabel\u001b[0m\u001b[0;34m(\u001b[0m\u001b[0;34m\"Count\"\u001b[0m\u001b[0;34m)\u001b[0m\u001b[0;34m\u001b[0m\u001b[0;34m\u001b[0m\u001b[0m\n",
            "\u001b[0;31mTypeError\u001b[0m: bar() missing 1 required positional argument: 'x'"
          ]
        }
      ]
    },
    {
      "cell_type": "code",
      "source": [
        "# Creating Data Frame for the transactions data \n",
        "\n",
        "# Purpose of converting all list into Series object Coz to treat each list element as entire element not to separate \n",
        "groceries_series  = pd.DataFrame(pd.Series(groceries_list))\n",
        "groceries_series = groceries_series.iloc[:9835,:] # removing the last empty transaction"
      ],
      "metadata": {
        "id": "Ixg5Oesdiuzg"
      },
      "execution_count": 16,
      "outputs": []
    },
    {
      "cell_type": "code",
      "source": [
        "groceries_series.columns = [\"transactions\"]"
      ],
      "metadata": {
        "id": "lcgx9uPVjig_"
      },
      "execution_count": 17,
      "outputs": []
    },
    {
      "cell_type": "code",
      "source": [
        "# creating a dummy columns for the each item in each transactions ... Using column names as item name\n",
        "X = groceries_series['transactions'].str.join(sep='*').str.get_dummies(sep='*')"
      ],
      "metadata": {
        "id": "O-zt04HAjnM9"
      },
      "execution_count": 18,
      "outputs": []
    },
    {
      "cell_type": "code",
      "source": [
        "frequent_itemsets = apriori(X, min_support=0.005, max_len=3,use_colnames = True)"
      ],
      "metadata": {
        "id": "r2gtZiCojp_z"
      },
      "execution_count": 19,
      "outputs": []
    },
    {
      "cell_type": "code",
      "source": [
        "# Most Frequent item sets based on support \n",
        "frequent_itemsets.sort_values('support',ascending = False,inplace=True)\n",
        "plt.bar(left = list(range(1,11)),height = frequent_itemsets.support[1:11],color='rgmyk');plt.xticks(list(range(1,11)),frequent_itemsets.itemsets[1:11])\n",
        "plt.xlabel('item-sets');plt.ylabel('support')\n"
      ],
      "metadata": {
        "id": "_V_l3LRJjsrn"
      },
      "execution_count": null,
      "outputs": []
    },
    {
      "cell_type": "code",
      "source": [
        "rules = association_rules(frequent_itemsets, metric=\"lift\", min_threshold=1)\n",
        "rules.head(20)\n",
        "rules.sort_values('lift',ascending = False,inplace=True)"
      ],
      "metadata": {
        "id": "w1hACsATjvYs"
      },
      "execution_count": 21,
      "outputs": []
    }
  ]
}