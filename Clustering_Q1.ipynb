{
  "cells": [
    {
      "cell_type": "markdown",
      "metadata": {
        "id": "view-in-github",
        "colab_type": "text"
      },
      "source": [
        "<a href=\"https://colab.research.google.com/github/Bhavin52/Case_Study/blob/main/Clustering_Q1.ipynb\" target=\"_parent\"><img src=\"https://colab.research.google.com/assets/colab-badge.svg\" alt=\"Open In Colab\"/></a>"
      ]
    },
    {
      "cell_type": "code",
      "execution_count": 70,
      "metadata": {
        "id": "nJl9jB9pql_s"
      },
      "outputs": [],
      "source": [
        "# import hierarchical clustering libraries\n",
        "import scipy.cluster.hierarchy as sch\n",
        "from sklearn.cluster import AgglomerativeClustering\n",
        "import numpy as np\n",
        "import pandas as pd\n",
        "from matplotlib import pyplot as plt\n",
        "import seaborn as sn"
      ]
    },
    {
      "cell_type": "code",
      "execution_count": 71,
      "metadata": {
        "colab": {
          "base_uri": "https://localhost:8080/"
        },
        "id": "yEk-El3tql_y",
        "outputId": "fb58cb98-7e17-4584-aacb-69c69e77606d"
      },
      "outputs": [
        {
          "output_type": "stream",
          "name": "stdout",
          "text": [
            "<class 'pandas.core.frame.DataFrame'>\n",
            "RangeIndex: 3999 entries, 0 to 3998\n",
            "Data columns (total 12 columns):\n",
            " #   Column             Non-Null Count  Dtype\n",
            "---  ------             --------------  -----\n",
            " 0   ID#                3999 non-null   int64\n",
            " 1   Balance            3999 non-null   int64\n",
            " 2   Qual_miles         3999 non-null   int64\n",
            " 3   cc1_miles          3999 non-null   int64\n",
            " 4   cc2_miles          3999 non-null   int64\n",
            " 5   cc3_miles          3999 non-null   int64\n",
            " 6   Bonus_miles        3999 non-null   int64\n",
            " 7   Bonus_trans        3999 non-null   int64\n",
            " 8   Flight_miles_12mo  3999 non-null   int64\n",
            " 9   Flight_trans_12    3999 non-null   int64\n",
            " 10  Days_since_enroll  3999 non-null   int64\n",
            " 11  Award?             3999 non-null   int64\n",
            "dtypes: int64(12)\n",
            "memory usage: 375.0 KB\n"
          ]
        }
      ],
      "source": [
        "airLines = pd.read_csv(\"/content/EastWestAirlines.csv\")\n",
        "airLines.info()"
      ]
    },
    {
      "cell_type": "code",
      "source": [
        "airLines.drop('ID#', axis=1, inplace=True)"
      ],
      "metadata": {
        "id": "8Mfa3ua9c4G9"
      },
      "execution_count": 72,
      "outputs": []
    },
    {
      "cell_type": "code",
      "source": [
        "airLines.duplicated().count()"
      ],
      "metadata": {
        "colab": {
          "base_uri": "https://localhost:8080/"
        },
        "id": "AEJq66RucIV9",
        "outputId": "591b68f8-53b9-422c-c1d4-0fa7ee99b8ea"
      },
      "execution_count": 73,
      "outputs": [
        {
          "output_type": "execute_result",
          "data": {
            "text/plain": [
              "3999"
            ]
          },
          "metadata": {},
          "execution_count": 73
        }
      ]
    },
    {
      "cell_type": "code",
      "source": [
        "airLines.isna().sum()"
      ],
      "metadata": {
        "colab": {
          "base_uri": "https://localhost:8080/"
        },
        "id": "ek70T8vTcYvk",
        "outputId": "11ec8f89-dfb4-45bd-a2cf-ea02fab0793f"
      },
      "execution_count": 74,
      "outputs": [
        {
          "output_type": "execute_result",
          "data": {
            "text/plain": [
              "Balance              0\n",
              "Qual_miles           0\n",
              "cc1_miles            0\n",
              "cc2_miles            0\n",
              "cc3_miles            0\n",
              "Bonus_miles          0\n",
              "Bonus_trans          0\n",
              "Flight_miles_12mo    0\n",
              "Flight_trans_12      0\n",
              "Days_since_enroll    0\n",
              "Award?               0\n",
              "dtype: int64"
            ]
          },
          "metadata": {},
          "execution_count": 74
        }
      ]
    },
    {
      "cell_type": "code",
      "source": [
        "# Standardzation  \n",
        "from sklearn.preprocessing import StandardScaler\n",
        "scaler = StandardScaler()\n",
        "airLines = scaler.fit_transform(airLines.iloc[:,1:])\n",
        "airLines"
      ],
      "metadata": {
        "colab": {
          "base_uri": "https://localhost:8080/"
        },
        "id": "0Hz6H1sOceUC",
        "outputId": "c41c2cd4-56f9-48e7-91cd-768e10b2aeee"
      },
      "execution_count": 75,
      "outputs": [
        {
          "output_type": "execute_result",
          "data": {
            "text/plain": [
              "array([[-0.18629869, -0.76957841, -0.09824189, ..., -0.36216787,\n",
              "         1.39545434, -0.7669193 ],\n",
              "       [-0.18629869, -0.76957841, -0.09824189, ..., -0.36216787,\n",
              "         1.37995704, -0.7669193 ],\n",
              "       [-0.18629869, -0.76957841, -0.09824189, ..., -0.36216787,\n",
              "         1.41192021, -0.7669193 ],\n",
              "       ...,\n",
              "       [-0.18629869,  0.68312117, -0.09824189, ..., -0.36216787,\n",
              "        -1.31560393,  1.30391816],\n",
              "       [-0.18629869, -0.76957841, -0.09824189, ..., -0.09850333,\n",
              "        -1.31608822, -0.7669193 ],\n",
              "       [-0.18629869, -0.76957841, -0.09824189, ..., -0.36216787,\n",
              "        -1.31754109, -0.7669193 ]])"
            ]
          },
          "metadata": {},
          "execution_count": 75
        }
      ]
    },
    {
      "cell_type": "code",
      "execution_count": null,
      "metadata": {
        "id": "CnsoIzofql_4"
      },
      "outputs": [],
      "source": [
        "# create dendrogram\n",
        "dendrogram = sch.dendrogram(sch.linkage(airLines, method='single'))"
      ]
    },
    {
      "cell_type": "code",
      "execution_count": null,
      "metadata": {
        "id": "tFH2E1fCql_7"
      },
      "outputs": [],
      "source": [
        "# create clusters\n",
        "hc = AgglomerativeClustering(n_clusters=4, affinity = 'euclidean', linkage = 'single')"
      ]
    },
    {
      "cell_type": "code",
      "execution_count": null,
      "metadata": {
        "id": "31M8Naucql_9"
      },
      "outputs": [],
      "source": [
        "# save clusters for chart\n",
        "y_hc = hc.fit_predict(airLines)\n",
        "Clusters_hierarchy=pd.DataFrame(y_hc,columns=['Clusters_hierarchy'])\n",
        "Clusters_hierarchy"
      ]
    },
    {
      "cell_type": "code",
      "source": [
        "from sklearn.cluster import KMeans  # showing Elbow curve minimum required cluster is 10 as after WCSS(sum of squared distance between each point and the centroid in a cluster.) Marginal change\n",
        "wcss = []\n",
        "for i in range(1, 45):\n",
        "    kmeans = KMeans(n_clusters=i,random_state=0)\n",
        "    kmeans.fit(airLines)\n",
        "    wcss.append(kmeans.inertia_)\n",
        "    \n",
        "plt.plot(range(1, 45), wcss)\n",
        "plt.title('Elbow Method')\n",
        "plt.xlabel('Number of clusters')\n",
        "plt.ylabel('WCSS')\n",
        "plt.show()"
      ],
      "metadata": {
        "id": "o4I8-pZeihGv"
      },
      "execution_count": null,
      "outputs": []
    },
    {
      "cell_type": "code",
      "source": [
        "from sklearn.cluster import KMeans\n",
        "clusters_Kmeans = KMeans(10, random_state=42)\n",
        "clusters_Kmeans.fit(airLines)"
      ],
      "metadata": {
        "id": "pRGP4Ep3iiLI"
      },
      "execution_count": null,
      "outputs": []
    },
    {
      "cell_type": "code",
      "source": [
        "clusters_Kmeans.labels_"
      ],
      "metadata": {
        "id": "wKtIKQwjkSxc"
      },
      "execution_count": null,
      "outputs": []
    },
    {
      "cell_type": "code",
      "source": [
        "airLines['clusters_Kmeans']=clusters_Kmeans.labels_"
      ],
      "metadata": {
        "id": "uMFypHo0khMc"
      },
      "execution_count": null,
      "outputs": []
    },
    {
      "cell_type": "code",
      "source": [
        ""
      ],
      "metadata": {
        "id": "8PsOFZgfl3uo"
      },
      "execution_count": null,
      "outputs": []
    }
  ],
  "metadata": {
    "kernelspec": {
      "display_name": "Python 3",
      "language": "python",
      "name": "python3"
    },
    "language_info": {
      "codemirror_mode": {
        "name": "ipython",
        "version": 3
      },
      "file_extension": ".py",
      "mimetype": "text/x-python",
      "name": "python",
      "nbconvert_exporter": "python",
      "pygments_lexer": "ipython3",
      "version": "3.7.4"
    },
    "colab": {
      "name": "Hierarchical Clustering.ipynb",
      "provenance": [],
      "collapsed_sections": [],
      "include_colab_link": true
    }
  },
  "nbformat": 4,
  "nbformat_minor": 0
}