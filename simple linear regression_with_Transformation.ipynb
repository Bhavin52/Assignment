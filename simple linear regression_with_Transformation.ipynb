{
  "nbformat": 4,
  "nbformat_minor": 0,
  "metadata": {
    "colab": {
      "name": "Untitled24.ipynb",
      "provenance": [],
      "authorship_tag": "ABX9TyM8nfzZ0GCHChYOz59tIkkP",
      "include_colab_link": true
    },
    "kernelspec": {
      "name": "python3",
      "display_name": "Python 3"
    },
    "language_info": {
      "name": "python"
    }
  },
  "cells": [
    {
      "cell_type": "markdown",
      "metadata": {
        "id": "view-in-github",
        "colab_type": "text"
      },
      "source": [
        "<a href=\"https://colab.research.google.com/github/Bhavin52/Case_Study/blob/main/simple%20linear%20regression_with_Transformation.ipynb\" target=\"_parent\"><img src=\"https://colab.research.google.com/assets/colab-badge.svg\" alt=\"Open In Colab\"/></a>"
      ]
    },
    {
      "cell_type": "code",
      "execution_count": 14,
      "metadata": {
        "id": "H06BFcMPLVTN"
      },
      "outputs": [],
      "source": [
        "import pandas as pd \n",
        "import numpy as np\n",
        "import matplotlib.pyplot as plt"
      ]
    },
    {
      "cell_type": "code",
      "source": [
        "wcat=pd.read_csv(\"/content/wc-at (1).csv\")\n",
        "wcat.columns"
      ],
      "metadata": {
        "colab": {
          "base_uri": "https://localhost:8080/"
        },
        "id": "X90_AZS8LWMo",
        "outputId": "65d746f4-9f81-4f74-88d4-420634bb1e24"
      },
      "execution_count": 15,
      "outputs": [
        {
          "output_type": "execute_result",
          "data": {
            "text/plain": [
              "Index(['Waist', 'AT'], dtype='object')"
            ]
          },
          "metadata": {},
          "execution_count": 15
        }
      ]
    },
    {
      "cell_type": "code",
      "source": [
        "plt.hist(wcat.Waist)\n",
        "plt.boxplot(wcat.Waist,0,\"rs\",0)"
      ],
      "metadata": {
        "colab": {
          "base_uri": "https://localhost:8080/",
          "height": 404
        },
        "id": "rWUeZrOwL0Hv",
        "outputId": "633ee6d6-fe4e-48a3-e25d-f1c6d62ae260"
      },
      "execution_count": 16,
      "outputs": [
        {
          "output_type": "execute_result",
          "data": {
            "text/plain": [
              "{'boxes': [<matplotlib.lines.Line2D at 0x7fbe27418f50>],\n",
              " 'caps': [<matplotlib.lines.Line2D at 0x7fbe27422f90>,\n",
              "  <matplotlib.lines.Line2D at 0x7fbe2742a510>],\n",
              " 'fliers': [<matplotlib.lines.Line2D at 0x7fbe2742afd0>],\n",
              " 'means': [],\n",
              " 'medians': [<matplotlib.lines.Line2D at 0x7fbe2742aa90>],\n",
              " 'whiskers': [<matplotlib.lines.Line2D at 0x7fbe27422510>,\n",
              "  <matplotlib.lines.Line2D at 0x7fbe27422a50>]}"
            ]
          },
          "metadata": {},
          "execution_count": 16
        },
        {
          "output_type": "display_data",
          "data": {
            "text/plain": [
              "<Figure size 432x288 with 1 Axes>"
            ],
            "image/png": "[encoded data removed]"
          },
          "metadata": {
            "needs_background": "light"
          }
        }
      ]
    },
    {
      "cell_type": "code",
      "source": [
        "plt.hist(wcat.AT)\n",
        "plt.boxplot(wcat.AT)"
      ],
      "metadata": {
        "colab": {
          "base_uri": "https://localhost:8080/",
          "height": 404
        },
        "id": "Ix1xGZUwL3kM",
        "outputId": "125545f2-9582-46a8-d4b2-55984a081fb2"
      },
      "execution_count": 17,
      "outputs": [
        {
          "output_type": "execute_result",
          "data": {
            "text/plain": [
              "{'boxes': [<matplotlib.lines.Line2D at 0x7fbe273ab7d0>],\n",
              " 'caps': [<matplotlib.lines.Line2D at 0x7fbe273b07d0>,\n",
              "  <matplotlib.lines.Line2D at 0x7fbe273b0d10>],\n",
              " 'fliers': [<matplotlib.lines.Line2D at 0x7fbe27338810>],\n",
              " 'means': [],\n",
              " 'medians': [<matplotlib.lines.Line2D at 0x7fbe273382d0>],\n",
              " 'whiskers': [<matplotlib.lines.Line2D at 0x7fbe273abd10>,\n",
              "  <matplotlib.lines.Line2D at 0x7fbe273b0290>]}"
            ]
          },
          "metadata": {},
          "execution_count": 17
        },
        {
          "output_type": "display_data",
          "data": {
            "text/plain": [
              "<Figure size 432x288 with 1 Axes>"
            ],
            "image/png": "[encoded data removed]"
          },
          "metadata": {
            "needs_background": "light"
          }
        }
      ]
    },
    {
      "cell_type": "code",
      "source": [
        "plt.plot(wcat.Waist,wcat.AT,\"bo\");plt.xlabel(\"Waist\");plt.ylabel(\"AT\")"
      ],
      "metadata": {
        "colab": {
          "base_uri": "https://localhost:8080/",
          "height": 296
        },
        "id": "pLJ_ev-4L8JT",
        "outputId": "61545a78-aa87-493e-cecb-15d802ac3264"
      },
      "execution_count": 18,
      "outputs": [
        {
          "output_type": "execute_result",
          "data": {
            "text/plain": [
              "Text(0, 0.5, 'AT')"
            ]
          },
          "metadata": {},
          "execution_count": 18
        },
        {
          "output_type": "display_data",
          "data": {
            "text/plain": [
              "<Figure size 432x288 with 1 Axes>"
            ],
            "image/png": "[encoded data removed]"
          },
          "metadata": {
            "needs_background": "light"
          }
        }
      ]
    },
    {
      "cell_type": "code",
      "source": [
        "wcat.AT.corr(wcat.Waist) # # correlation value between X and Y\n",
        "np.corrcoef(wcat.AT,wcat.Waist)"
      ],
      "metadata": {
        "colab": {
          "base_uri": "https://localhost:8080/"
        },
        "id": "cvWIjo5qL_mV",
        "outputId": "95384763-6330-42af-fec6-666f54cfd223"
      },
      "execution_count": 19,
      "outputs": [
        {
          "output_type": "execute_result",
          "data": {
            "text/plain": [
              "array([[1.        , 0.81855781],\n",
              "       [0.81855781, 1.        ]])"
            ]
          },
          "metadata": {},
          "execution_count": 19
        }
      ]
    },
    {
      "cell_type": "code",
      "source": [
        "# For preparing linear regression model we need to import the statsmodels.formula.api\n",
        "import statsmodels.formula.api as smf\n",
        "model=smf.ols(\"AT~Waist\",data=wcat).fit()"
      ],
      "metadata": {
        "id": "OrHzODsGMDDo"
      },
      "execution_count": 20,
      "outputs": []
    },
    {
      "cell_type": "code",
      "source": [
        "# For getting coefficients of the varibles used in equation\n",
        "model.params\n",
        "\n",
        "# P-values for the variables and R-squared value for prepared model\n",
        "model.summary()"
      ],
      "metadata": {
        "colab": {
          "base_uri": "https://localhost:8080/",
          "height": 452
        },
        "id": "9slUcAuzMGr8",
        "outputId": "1b4d0c74-cb02-4f7c-c625-2ab2b7db3f12"
      },
      "execution_count": 22,
      "outputs": [
        {
          "output_type": "execute_result",
          "data": {
            "text/plain": [
              "<class 'statsmodels.iolib.summary.Summary'>\n",
              "\"\"\"\n",
              "                            OLS Regression Results                            \n",
              "==============================================================================\n",
              "Dep. Variable:                     AT   R-squared:                       0.670\n",
              "Model:                            OLS   Adj. R-squared:                  0.667\n",
              "Method:                 Least Squares   F-statistic:                     217.3\n",
              "Date:                Sun, 05 Jun 2022   Prob (F-statistic):           1.62e-27\n",
              "Time:                        04:49:45   Log-Likelihood:                -534.99\n",
              "No. Observations:                 109   AIC:                             1074.\n",
              "Df Residuals:                     107   BIC:                             1079.\n",
              "Df Model:                           1                                         \n",
              "Covariance Type:            nonrobust                                         \n",
              "==============================================================================\n",
              "                 coef    std err          t      P>|t|      [0.025      0.975]\n",
              "------------------------------------------------------------------------------\n",
              "Intercept   -215.9815     21.796     -9.909      0.000    -259.190    -172.773\n",
              "Waist          3.4589      0.235     14.740      0.000       2.994       3.924\n",
              "==============================================================================\n",
              "Omnibus:                        3.960   Durbin-Watson:                   1.560\n",
              "Prob(Omnibus):                  0.138   Jarque-Bera (JB):                4.596\n",
              "Skew:                           0.104   Prob(JB):                        0.100\n",
              "Kurtosis:                       3.984   Cond. No.                         639.\n",
              "==============================================================================\n",
              "\n",
              "Warnings:\n",
              "[1] Standard Errors assume that the covariance matrix of the errors is correctly specified.\n",
              "\"\"\""
            ],
            "text/html": [
              "<table class=\"simpletable\">\n",
              "<caption>OLS Regression Results</caption>\n",
              "<tr>\n",
              "  <th>Dep. Variable:</th>           <td>AT</td>        <th>  R-squared:         </th> <td>   0.670</td>\n",
              "</tr>\n",
              "<tr>\n",
              "  <th>Model:</th>                   <td>OLS</td>       <th>  Adj. R-squared:    </th> <td>   0.667</td>\n",
              "</tr>\n",
              "<tr>\n",
              "  <th>Method:</th>             <td>Least Squares</td>  <th>  F-statistic:       </th> <td>   217.3</td>\n",
              "</tr>\n",
              "<tr>\n",
              "  <th>Date:</th>             <td>Sun, 05 Jun 2022</td> <th>  Prob (F-statistic):</th> <td>1.62e-27</td>\n",
              "</tr>\n",
              "<tr>\n",
              "  <th>Time:</th>                 <td>04:49:45</td>     <th>  Log-Likelihood:    </th> <td> -534.99</td>\n",
              "</tr>\n",
              "<tr>\n",
              "  <th>No. Observations:</th>      <td>   109</td>      <th>  AIC:               </th> <td>   1074.</td>\n",
              "</tr>\n",
              "<tr>\n",
              "  <th>Df Residuals:</th>          <td>   107</td>      <th>  BIC:               </th> <td>   1079.</td>\n",
              "</tr>\n",
              "<tr>\n",
              "  <th>Df Model:</th>              <td>     1</td>      <th>                     </th>     <td> </td>   \n",
              "</tr>\n",
              "<tr>\n",
              "  <th>Covariance Type:</th>      <td>nonrobust</td>    <th>                     </th>     <td> </td>   \n",
              "</tr>\n",
              "</table>\n",
              "<table class=\"simpletable\">\n",
              "<tr>\n",
              "      <td></td>         <th>coef</th>     <th>std err</th>      <th>t</th>      <th>P>|t|</th>  <th>[0.025</th>    <th>0.975]</th>  \n",
              "</tr>\n",
              "<tr>\n",
              "  <th>Intercept</th> <td> -215.9815</td> <td>   21.796</td> <td>   -9.909</td> <td> 0.000</td> <td> -259.190</td> <td> -172.773</td>\n",
              "</tr>\n",
              "<tr>\n",
              "  <th>Waist</th>     <td>    3.4589</td> <td>    0.235</td> <td>   14.740</td> <td> 0.000</td> <td>    2.994</td> <td>    3.924</td>\n",
              "</tr>\n",
              "</table>\n",
              "<table class=\"simpletable\">\n",
              "<tr>\n",
              "  <th>Omnibus:</th>       <td> 3.960</td> <th>  Durbin-Watson:     </th> <td>   1.560</td>\n",
              "</tr>\n",
              "<tr>\n",
              "  <th>Prob(Omnibus):</th> <td> 0.138</td> <th>  Jarque-Bera (JB):  </th> <td>   4.596</td>\n",
              "</tr>\n",
              "<tr>\n",
              "  <th>Skew:</th>          <td> 0.104</td> <th>  Prob(JB):          </th> <td>   0.100</td>\n",
              "</tr>\n",
              "<tr>\n",
              "  <th>Kurtosis:</th>      <td> 3.984</td> <th>  Cond. No.          </th> <td>    639.</td>\n",
              "</tr>\n",
              "</table><br/><br/>Warnings:<br/>[1] Standard Errors assume that the covariance matrix of the errors is correctly specified."
            ]
          },
          "metadata": {},
          "execution_count": 22
        }
      ]
    },
    {
      "cell_type": "code",
      "source": [
        "model.conf_int(0.05) # 95% confidence interval"
      ],
      "metadata": {
        "colab": {
          "base_uri": "https://localhost:8080/",
          "height": 112
        },
        "id": "MCJpKhv_MJ8a",
        "outputId": "e5ebdade-51bd-4dbf-dd9d-1f8c7a41349b"
      },
      "execution_count": 23,
      "outputs": [
        {
          "output_type": "execute_result",
          "data": {
            "text/plain": [
              "                    0           1\n",
              "Intercept -259.190053 -172.772923\n",
              "Waist        2.993689    3.924030"
            ],
            "text/html": [
              "\n",
              "  <div id=\"df-827267d7-1ce7-44e3-8b49-fa054237023a\">\n",
              "    <div class=\"colab-df-container\">\n",
              "      <div>\n",
              "<style scoped>\n",
              "    .dataframe tbody tr th:only-of-type {\n",
              "        vertical-align: middle;\n",
              "    }\n",
              "\n",
              "    .dataframe tbody tr th {\n",
              "        vertical-align: top;\n",
              "    }\n",
              "\n",
              "    .dataframe thead th {\n",
              "        text-align: right;\n",
              "    }\n",
              "</style>\n",
              "<table border=\"1\" class=\"dataframe\">\n",
              "  <thead>\n",
              "    <tr style=\"text-align: right;\">\n",
              "      <th></th>\n",
              "      <th>0</th>\n",
              "      <th>1</th>\n",
              "    </tr>\n",
              "  </thead>\n",
              "  <tbody>\n",
              "    <tr>\n",
              "      <th>Intercept</th>\n",
              "      <td>-259.190053</td>\n",
              "      <td>-172.772923</td>\n",
              "    </tr>\n",
              "    <tr>\n",
              "      <th>Waist</th>\n",
              "      <td>2.993689</td>\n",
              "      <td>3.924030</td>\n",
              "    </tr>\n",
              "  </tbody>\n",
              "</table>\n",
              "</div>\n",
              "      <button class=\"colab-df-convert\" onclick=\"convertToInteractive('df-827267d7-1ce7-44e3-8b49-fa054237023a')\"\n",
              "              title=\"Convert this dataframe to an interactive table.\"\n",
              "              style=\"display:none;\">\n",
              "        \n",
              "  <svg xmlns=\"http://www.w3.org/2000/svg\" height=\"24px\"viewBox=\"0 0 24 24\"\n",
              "       width=\"24px\">\n",
              "    <path d=\"M0 0h24v24H0V0z\" fill=\"none\"/>\n",
              "    <path d=\"M18.56 5.44l.94 2.06.94-2.06 2.06-.94-2.06-.94-.94-2.06-.94 2.06-2.06.94zm-11 1L8.5 8.5l.94-2.06 2.06-.94-2.06-.94L8.5 2.5l-.94 2.06-2.06.94zm10 10l.94 2.06.94-2.06 2.06-.94-2.06-.94-.94-2.06-.94 2.06-2.06.94z\"/><path d=\"M17.41 7.96l-1.37-1.37c-.4-.4-.92-.59-1.43-.59-.52 0-1.04.2-1.43.59L10.3 9.45l-7.72 7.72c-.78.78-.78 2.05 0 2.83L4 21.41c.39.39.9.59 1.41.59.51 0 1.02-.2 1.41-.59l7.78-7.78 2.81-2.81c.8-.78.8-2.07 0-2.86zM5.41 20L4 18.59l7.72-7.72 1.47 1.35L5.41 20z\"/>\n",
              "  </svg>\n",
              "      </button>\n",
              "      \n",
              "  <style>\n",
              "    .colab-df-container {\n",
              "      display:flex;\n",
              "      flex-wrap:wrap;\n",
              "      gap: 12px;\n",
              "    }\n",
              "\n",
              "    .colab-df-convert {\n",
              "      background-color: #E8F0FE;\n",
              "      border: none;\n",
              "      border-radius: 50%;\n",
              "      cursor: pointer;\n",
              "      display: none;\n",
              "      fill: #1967D2;\n",
              "      height: 32px;\n",
              "      padding: 0 0 0 0;\n",
              "      width: 32px;\n",
              "    }\n",
              "\n",
              "    .colab-df-convert:hover {\n",
              "      background-color: #E2EBFA;\n",
              "      box-shadow: 0px 1px 2px rgba(60, 64, 67, 0.3), 0px 1px 3px 1px rgba(60, 64, 67, 0.15);\n",
              "      fill: #174EA6;\n",
              "    }\n",
              "\n",
              "    [theme=dark] .colab-df-convert {\n",
              "      background-color: #3B4455;\n",
              "      fill: #D2E3FC;\n",
              "    }\n",
              "\n",
              "    [theme=dark] .colab-df-convert:hover {\n",
              "      background-color: #434B5C;\n",
              "      box-shadow: 0px 1px 3px 1px rgba(0, 0, 0, 0.15);\n",
              "      filter: drop-shadow(0px 1px 2px rgba(0, 0, 0, 0.3));\n",
              "      fill: #FFFFFF;\n",
              "    }\n",
              "  </style>\n",
              "\n",
              "      <script>\n",
              "        const buttonEl =\n",
              "          document.querySelector('#df-827267d7-1ce7-44e3-8b49-fa054237023a button.colab-df-convert');\n",
              "        buttonEl.style.display =\n",
              "          google.colab.kernel.accessAllowed ? 'block' : 'none';\n",
              "\n",
              "        async function convertToInteractive(key) {\n",
              "          const element = document.querySelector('#df-827267d7-1ce7-44e3-8b49-fa054237023a');\n",
              "          const dataTable =\n",
              "            await google.colab.kernel.invokeFunction('convertToInteractive',\n",
              "                                                     [key], {});\n",
              "          if (!dataTable) return;\n",
              "\n",
              "          const docLinkHtml = 'Like what you see? Visit the ' +\n",
              "            '<a target=\"_blank\" href=https://colab.research.google.com/notebooks/data_table.ipynb>data table notebook</a>'\n",
              "            + ' to learn more about interactive tables.';\n",
              "          element.innerHTML = '';\n",
              "          dataTable['output_type'] = 'display_data';\n",
              "          await google.colab.output.renderOutput(dataTable, element);\n",
              "          const docLink = document.createElement('div');\n",
              "          docLink.innerHTML = docLinkHtml;\n",
              "          element.appendChild(docLink);\n",
              "        }\n",
              "      </script>\n",
              "    </div>\n",
              "  </div>\n",
              "  "
            ]
          },
          "metadata": {},
          "execution_count": 23
        }
      ]
    },
    {
      "cell_type": "code",
      "source": [
        "pred = model.predict(wcat.iloc[:,0]) # Predicted values of AT using the model"
      ],
      "metadata": {
        "id": "uPB4WHwhNV0n"
      },
      "execution_count": 24,
      "outputs": []
    },
    {
      "cell_type": "code",
      "source": [
        "# Visualization of regresion line over the scatter plot of Waist and AT\n",
        "# For visualization we need to import matplotlib.pyplot\n",
        "import matplotlib.pylab as plt\n",
        "plt.scatter(x=wcat['Waist'],y=wcat['AT'],color='red');plt.plot(wcat['Waist'],pred,color='black');plt.xlabel('WAIST');plt.ylabel('TISSUE')\n"
      ],
      "metadata": {
        "colab": {
          "base_uri": "https://localhost:8080/",
          "height": 296
        },
        "id": "ZyVMNUKcNawe",
        "outputId": "50279cd2-6bad-4647-bc23-67f3e34cc277"
      },
      "execution_count": 25,
      "outputs": [
        {
          "output_type": "execute_result",
          "data": {
            "text/plain": [
              "Text(0, 0.5, 'TISSUE')"
            ]
          },
          "metadata": {},
          "execution_count": 25
        },
        {
          "output_type": "display_data",
          "data": {
            "text/plain": [
              "<Figure size 432x288 with 1 Axes>"
            ],
            "image/png": "[encoded data removed]"
          },
          "metadata": {
            "needs_background": "light"
          }
        }
      ]
    },
    {
      "cell_type": "code",
      "source": [
        "pred.corr(wcat.AT) # 0.81"
      ],
      "metadata": {
        "colab": {
          "base_uri": "https://localhost:8080/"
        },
        "id": "Vb52QzcWNfaG",
        "outputId": "2a527a1e-ca94-4310-c508-9d5e381f7d5f"
      },
      "execution_count": 26,
      "outputs": [
        {
          "output_type": "execute_result",
          "data": {
            "text/plain": [
              "0.8185578128958535"
            ]
          },
          "metadata": {},
          "execution_count": 26
        }
      ]
    },
    {
      "cell_type": "code",
      "source": [
        "model2 = smf.ols('AT~np.log(Waist)',data=wcat).fit()\n",
        "model2.params\n",
        "model2.summary()\n",
        "print(model2.conf_int(0.01)) # 99% confidence level\n",
        "pred2 = model2.predict(pd.DataFrame(wcat['Waist']))\n",
        "pred2.corr(wcat.AT)\n",
        "# pred2 = model2.predict(wcat.iloc[:,0])\n",
        "pred2\n",
        "plt.scatter(x=wcat['Waist'],y=wcat['AT'],color='green');plt.plot(wcat['Waist'],pred2,color='blue');plt.xlabel('WAIST');plt.ylabel('TISSUE')"
      ],
      "metadata": {
        "colab": {
          "base_uri": "https://localhost:8080/",
          "height": 348
        },
        "id": "prDdkacUNjCb",
        "outputId": "0af27b7b-6c21-42f6-b91b-ed817328e284"
      },
      "execution_count": 27,
      "outputs": [
        {
          "output_type": "stream",
          "name": "stdout",
          "text": [
            "                         0            1\n",
            "Intercept     -1579.905632 -1076.778346\n",
            "np.log(Waist)   261.384641   372.886487\n"
          ]
        },
        {
          "output_type": "execute_result",
          "data": {
            "text/plain": [
              "Text(0, 0.5, 'TISSUE')"
            ]
          },
          "metadata": {},
          "execution_count": 27
        },
        {
          "output_type": "display_data",
          "data": {
            "text/plain": [
              "<Figure size 432x288 with 1 Axes>"
            ],
            "image/png": "[encoded data removed]"
          },
          "metadata": {
            "needs_background": "light"
          }
        }
      ]
    },
    {
      "cell_type": "code",
      "source": [
        "# Exponential transformation\n",
        "model3 = smf.ols('np.log(AT)~Waist',data=wcat).fit()\n",
        "model3.params\n",
        "model3.summary()\n",
        "print(model3.conf_int(0.01)) # 99% confidence level\n",
        "pred_log = model3.predict(pd.DataFrame(wcat['Waist']))\n",
        "pred_log\n",
        "pred3=np.exp(pred_log)  # as we have used log(AT) in preparing model so we need to convert it back\n",
        "pred3\n",
        "pred3.corr(wcat.AT)\n",
        "plt.scatter(x=wcat['Waist'],y=wcat['AT'],color='green');plt.plot(wcat.Waist,np.exp(pred_log),color='blue');plt.xlabel('WAIST');plt.ylabel('TISSUE')\n",
        "resid_3 = pred3-wcat.AT"
      ],
      "metadata": {
        "colab": {
          "base_uri": "https://localhost:8080/",
          "height": 331
        },
        "id": "Xsu6nQF1NrM-",
        "outputId": "10ffdf2a-f198-45c3-bff7-fbed190195b4"
      },
      "execution_count": 28,
      "outputs": [
        {
          "output_type": "stream",
          "name": "stdout",
          "text": [
            "                  0         1\n",
            "Intercept  0.130939  1.351102\n",
            "Waist      0.033684  0.046820\n"
          ]
        },
        {
          "output_type": "display_data",
          "data": {
            "text/plain": [
              "<Figure size 432x288 with 1 Axes>"
            ],
            "image/png": "[encoded data removed]"
          },
          "metadata": {
            "needs_background": "light"
          }
        }
      ]
    },
    {
      "cell_type": "code",
      "source": [
        "# so we will consider the model having highest R-Squared value which is the log transformation - model3\n",
        "# getting residuals of the entire data set\n",
        "student_resid = model3.resid_pearson \n",
        "student_resid\n",
        "plt.plot(model3.resid_pearson,'o');plt.axhline(y=0,color='green');plt.xlabel(\"Observation Number\");plt.ylabel(\"Standardized Residual\")\n",
        "\n",
        "# Predicted vs actual values\n",
        "plt.scatter(x=pred3,y=wcat.AT);plt.xlabel(\"Predicted\");plt.ylabel(\"Actual\")\n"
      ],
      "metadata": {
        "colab": {
          "base_uri": "https://localhost:8080/",
          "height": 296
        },
        "id": "eP_I3SvsN3EP",
        "outputId": "a8016fa5-f7c1-45f1-e06e-9ec6ba208617"
      },
      "execution_count": 29,
      "outputs": [
        {
          "output_type": "execute_result",
          "data": {
            "text/plain": [
              "Text(0, 0.5, 'Actual')"
            ]
          },
          "metadata": {},
          "execution_count": 29
        },
        {
          "output_type": "display_data",
          "data": {
            "text/plain": [
              "<Figure size 432x288 with 1 Axes>"
            ],
            "image/png": "[encoded data removed]"
          },
          "metadata": {
            "needs_background": "light"
          }
        }
      ]
    },
    {
      "cell_type": "code",
      "source": [
        "from sklearn.linear_model import LinearRegression\n",
        "import numpy as np\n",
        "plt.scatter(wcat.Waist,wcat.AT)\n",
        "model1 = LinearRegression()\n",
        "model1.fit(wcat.Waist.values.reshape(-1,1),wcat.AT)\n",
        "pred1 = model1.predict(wcat.Waist.values.reshape(-1,1))\n",
        "# Adjusted R-Squared value\n",
        "model1.score(wcat.Waist.values.reshape(-1,1),wcat.AT)# 0.6700\n",
        "rmse1 = np.sqrt(np.mean((pred1-wcat.AT)**2)) # 32.760\n",
        "model1.coef_\n",
        "model1.intercept_\n"
      ],
      "metadata": {
        "colab": {
          "base_uri": "https://localhost:8080/",
          "height": 282
        },
        "id": "EH911L-xOgRV",
        "outputId": "be594814-fe40-4c49-d0a3-50f78d58db45"
      },
      "execution_count": 36,
      "outputs": [
        {
          "output_type": "execute_result",
          "data": {
            "text/plain": [
              "-215.98148796164242"
            ]
          },
          "metadata": {},
          "execution_count": 36
        },
        {
          "output_type": "display_data",
          "data": {
            "text/plain": [
              "<Figure size 432x288 with 1 Axes>"
            ],
            "image/png": "[encoded data removed]"
          },
          "metadata": {
            "needs_background": "light"
          }
        }
      ]
    },
    {
      "cell_type": "code",
      "source": [
        "#### Residuals Vs Fitted values\n",
        "import matplotlib.pyplot as plt\n",
        "plt.scatter(pred1,(pred1-wcat.AT),c=\"r\")\n",
        "plt.hlines(y=0,xmin=0,xmax=300) \n",
        "# checking normal distribution for residual\n",
        "plt.hist(pred1-wcat.AT)\n"
      ],
      "metadata": {
        "colab": {
          "base_uri": "https://localhost:8080/",
          "height": 352
        },
        "id": "hbXhbpMQddsM",
        "outputId": "0a91b716-d8cb-4bbf-f119-9d9c8a8b8c88"
      },
      "execution_count": 37,
      "outputs": [
        {
          "output_type": "execute_result",
          "data": {
            "text/plain": [
              "(array([ 3.,  8.,  6., 14., 33., 27., 14.,  2.,  0.,  2.]),\n",
              " array([-90.34239241, -70.57934363, -50.81629486, -31.05324609,\n",
              "        -11.29019731,   8.47285146,  28.23590023,  47.99894901,\n",
              "         67.76199778,  87.52504655, 107.28809533]),\n",
              " <a list of 10 Patch objects>)"
            ]
          },
          "metadata": {},
          "execution_count": 37
        },
        {
          "output_type": "display_data",
          "data": {
            "text/plain": [
              "<Figure size 432x288 with 1 Axes>"
            ],
            "image/png": "[encoded data removed]"
          },
          "metadata": {
            "needs_background": "light"
          }
        }
      ]
    },
    {
      "cell_type": "code",
      "source": [
        "### Fitting Quadratic Regression \n",
        "wcat[\"Waist_sqrd\"] = wcat.Waist*wcat.Waist\n",
        "model2 = LinearRegression()\n",
        "model2.fit(X = wcat.iloc[:,[0,2]],y=wcat.AT)\n",
        "pred2 = model2.predict(wcat.iloc[:,[0,2]])\n",
        "# Adjusted R-Squared value\n",
        "model2.score(wcat.iloc[:,[0,2]],wcat.AT)# 0.67791\n",
        "rmse2 = np.sqrt(np.mean((pred2-wcat.AT)**2)) # 32.366\n",
        "model2.coef_\n",
        "model2.intercept_"
      ],
      "metadata": {
        "colab": {
          "base_uri": "https://localhost:8080/"
        },
        "id": "F0v4sp1-ddwU",
        "outputId": "db4659d2-63c1-4aae-e514-efeb64365c8c"
      },
      "execution_count": 38,
      "outputs": [
        {
          "output_type": "execute_result",
          "data": {
            "text/plain": [
              "-466.28870655158613"
            ]
          },
          "metadata": {},
          "execution_count": 38
        }
      ]
    },
    {
      "cell_type": "code",
      "source": [
        "#### Residuals Vs Fitted values\n",
        "import matplotlib.pyplot as plt\n",
        "plt.scatter(pred2,(pred2-wcat.AT),c=\"r\")\n",
        "plt.hlines(y=0,xmin=0,xmax=200)  \n",
        "# Checking normal distribution\n",
        "plt.hist(pred2-wcat.AT)\n",
        "import pylab\n",
        "import scipy.stats as st\n",
        "st.probplot(pred2-wcat.AT,dist=\"norm\",plot=pylab)"
      ],
      "metadata": {
        "colab": {
          "base_uri": "https://localhost:8080/",
          "height": 1000
        },
        "id": "-uiCY8CNdpqC",
        "outputId": "acc6dc54-c5c8-4adc-c99e-1e116e747f3a"
      },
      "execution_count": 39,
      "outputs": [
        {
          "output_type": "execute_result",
          "data": {
            "text/plain": [
              "((array([-2.49269012, -2.16005351, -1.96810538, -1.829376  , -1.71891041,\n",
              "         -1.62614848, -1.54558238, -1.4739582 , -1.40918581, -1.34983904,\n",
              "         -1.2948992 , -1.24361202, -1.19540258, -1.14982207, -1.10651298,\n",
              "         -1.06518563, -1.02560179, -0.98756301, -0.95090206, -0.9154766 ,\n",
              "         -0.88116436, -0.84785944, -0.81546946, -0.78391323, -0.75311899,\n",
              "         -0.72302293, -0.69356797, -0.66470285, -0.63638125, -0.60856118,\n",
              "         -0.58120436, -0.55427579, -0.52774332, -0.5015773 , -0.47575031,\n",
              "         -0.45023686, -0.42501321, -0.40005714, -0.3753478 , -0.35086557,\n",
              "         -0.32659187, -0.30250912, -0.27860058, -0.25485026, -0.23124286,\n",
              "         -0.20776364, -0.18439842, -0.16113345, -0.13795538, -0.1148512 ,\n",
              "         -0.09180817, -0.06881379, -0.04585574, -0.02292185,  0.        ,\n",
              "          0.02292185,  0.04585574,  0.06881379,  0.09180817,  0.1148512 ,\n",
              "          0.13795538,  0.16113345,  0.18439842,  0.20776364,  0.23124286,\n",
              "          0.25485026,  0.27860058,  0.30250912,  0.32659187,  0.35086557,\n",
              "          0.3753478 ,  0.40005714,  0.42501321,  0.45023686,  0.47575031,\n",
              "          0.5015773 ,  0.52774332,  0.55427579,  0.58120436,  0.60856118,\n",
              "          0.63638125,  0.66470285,  0.69356797,  0.72302293,  0.75311899,\n",
              "          0.78391323,  0.81546946,  0.84785944,  0.88116436,  0.9154766 ,\n",
              "          0.95090206,  0.98756301,  1.02560179,  1.06518563,  1.10651298,\n",
              "          1.14982207,  1.19540258,  1.24361202,  1.2948992 ,  1.34983904,\n",
              "          1.40918581,  1.4739582 ,  1.54558238,  1.62614848,  1.71891041,\n",
              "          1.829376  ,  1.96810538,  2.16005351,  2.49269012]),\n",
              "  array([-9.00881444e+01, -8.04241330e+01, -7.00828776e+01, -6.83005106e+01,\n",
              "         -6.08581155e+01, -6.06544857e+01, -5.68124259e+01, -5.33842842e+01,\n",
              "         -5.25327773e+01, -5.21139739e+01, -5.12027273e+01, -5.05877336e+01,\n",
              "         -5.05655156e+01, -4.58869380e+01, -4.52127160e+01, -3.89665192e+01,\n",
              "         -3.85557758e+01, -3.33322019e+01, -2.78369510e+01, -2.55877336e+01,\n",
              "         -2.29580734e+01, -2.28511496e+01, -2.11755397e+01, -2.08983486e+01,\n",
              "         -1.84711728e+01, -1.72027273e+01, -1.38276547e+01, -1.27203388e+01,\n",
              "         -1.25636044e+01, -1.24434297e+01, -1.12082153e+01, -9.34876833e+00,\n",
              "         -7.43430152e+00, -6.77178241e+00, -6.55086619e+00, -6.20384568e+00,\n",
              "         -6.04660609e+00, -5.88866104e+00, -4.77178241e+00, -4.39699953e+00,\n",
              "         -3.26436465e+00, -3.14150369e+00, -2.88693795e+00, -2.82491431e+00,\n",
              "         -2.43277705e+00, -1.58773362e+00, -9.81729050e-01, -1.86507785e-01,\n",
              "         -8.81444402e-02, -5.37620926e-02,  1.42273747e+00,  1.57113024e+00,\n",
              "          2.19308341e+00,  2.56392601e+00,  2.57173977e+00,  3.14173977e+00,\n",
              "          3.26342329e+00,  3.54957400e+00,  4.21355276e+00,  4.40019840e+00,\n",
              "          6.15539896e+00,  6.65343427e+00,  6.91111092e+00,  7.88913524e+00,\n",
              "          8.03882041e+00,  8.13431108e+00,  8.55552518e+00,  1.00989392e+01,\n",
              "          1.07961543e+01,  1.11156434e+01,  1.20401910e+01,  1.25216514e+01,\n",
              "          1.26121858e+01,  1.27389905e+01,  1.27634994e+01,  1.28347957e+01,\n",
              "          1.36213076e+01,  1.41931935e+01,  1.45711302e+01,  1.47823508e+01,\n",
              "          1.74158666e+01,  1.84442242e+01,  2.16677981e+01,  2.32077402e+01,\n",
              "          2.37785213e+01,  2.44363956e+01,  2.44587892e+01,  2.48225515e+01,\n",
              "          2.54474811e+01,  2.61973274e+01,  2.85672229e+01,  3.24947070e+01,\n",
              "          3.36213076e+01,  3.39058957e+01,  3.47006433e+01,  3.51343111e+01,\n",
              "          3.52782176e+01,  3.58177748e+01,  3.59925515e+01,  3.72487858e+01,\n",
              "          3.75090698e+01,  3.89118556e+01,  4.23203499e+01,  4.25414235e+01,\n",
              "          4.99564228e+01,  5.10777402e+01,  6.55665703e+01,  7.63478303e+01,\n",
              "          9.13805332e+01])),\n",
              " (32.470569407227444, 4.5694457680437336e-14, 0.9845110266579487))"
            ]
          },
          "metadata": {},
          "execution_count": 39
        },
        {
          "output_type": "display_data",
          "data": {
            "text/plain": [
              "<Figure size 432x288 with 1 Axes>"
            ],
            "image/png": "[encoded data removed]"
          },
          "metadata": {
            "needs_background": "light"
          }
        }
      ]
    },
    {
      "cell_type": "code",
      "source": [
        "# Let us prepare a model by applying transformation on dependent variable\n",
        "wcat[\"AT_sqrt\"] = np.sqrt(wcat.AT)\n",
        "\n",
        "model3 = LinearRegression()\n",
        "model3.fit(X = wcat.iloc[:,[0,2]],y=wcat.AT_sqrt)\n",
        "pred3 = model3.predict(wcat.iloc[:,[0,2]])"
      ],
      "metadata": {
        "id": "TmD7xYcJduSu"
      },
      "execution_count": 40,
      "outputs": []
    },
    {
      "cell_type": "code",
      "source": [
        "# Adjusted R-Squared value\n",
        "model3.score(wcat.iloc[:,[0,2]],wcat.AT_sqrt)# 0.74051\n",
        "rmse3 = np.sqrt(np.mean(((pred3)**2-wcat.AT)**2)) # 32.0507\n",
        "model3.coef_\n",
        "model3.intercept_"
      ],
      "metadata": {
        "colab": {
          "base_uri": "https://localhost:8080/"
        },
        "id": "6D2qtLexdzR-",
        "outputId": "f52269a6-7623-4900-fe22-0d84871b6568"
      },
      "execution_count": 41,
      "outputs": [
        {
          "output_type": "execute_result",
          "data": {
            "text/plain": [
              "-32.01386935710788"
            ]
          },
          "metadata": {},
          "execution_count": 41
        }
      ]
    },
    {
      "cell_type": "code",
      "source": [
        "#### Residuals Vs Fitted values\n",
        "import matplotlib.pyplot as plt\n",
        "plt.scatter((pred3)**2,((pred3)**2-wcat.AT),c=\"r\")\n",
        "plt.hlines(y=0,xmin=0,xmax=300)  \n",
        "# checking normal distribution for residuals \n",
        "plt.hist((pred3)**2-wcat.AT)\n",
        "st.probplot((pred3)**2-wcat.AT,dist=\"norm\",plot=pylab)\n"
      ],
      "metadata": {
        "colab": {
          "base_uri": "https://localhost:8080/",
          "height": 1000
        },
        "id": "uO6jQqOld7vJ",
        "outputId": "dc603418-9632-4d73-d8eb-4910d27befcf"
      },
      "execution_count": 42,
      "outputs": [
        {
          "output_type": "execute_result",
          "data": {
            "text/plain": [
              "((array([-2.49269012, -2.16005351, -1.96810538, -1.829376  , -1.71891041,\n",
              "         -1.62614848, -1.54558238, -1.4739582 , -1.40918581, -1.34983904,\n",
              "         -1.2948992 , -1.24361202, -1.19540258, -1.14982207, -1.10651298,\n",
              "         -1.06518563, -1.02560179, -0.98756301, -0.95090206, -0.9154766 ,\n",
              "         -0.88116436, -0.84785944, -0.81546946, -0.78391323, -0.75311899,\n",
              "         -0.72302293, -0.69356797, -0.66470285, -0.63638125, -0.60856118,\n",
              "         -0.58120436, -0.55427579, -0.52774332, -0.5015773 , -0.47575031,\n",
              "         -0.45023686, -0.42501321, -0.40005714, -0.3753478 , -0.35086557,\n",
              "         -0.32659187, -0.30250912, -0.27860058, -0.25485026, -0.23124286,\n",
              "         -0.20776364, -0.18439842, -0.16113345, -0.13795538, -0.1148512 ,\n",
              "         -0.09180817, -0.06881379, -0.04585574, -0.02292185,  0.        ,\n",
              "          0.02292185,  0.04585574,  0.06881379,  0.09180817,  0.1148512 ,\n",
              "          0.13795538,  0.16113345,  0.18439842,  0.20776364,  0.23124286,\n",
              "          0.25485026,  0.27860058,  0.30250912,  0.32659187,  0.35086557,\n",
              "          0.3753478 ,  0.40005714,  0.42501321,  0.45023686,  0.47575031,\n",
              "          0.5015773 ,  0.52774332,  0.55427579,  0.58120436,  0.60856118,\n",
              "          0.63638125,  0.66470285,  0.69356797,  0.72302293,  0.75311899,\n",
              "          0.78391323,  0.81546946,  0.84785944,  0.88116436,  0.9154766 ,\n",
              "          0.95090206,  0.98756301,  1.02560179,  1.06518563,  1.10651298,\n",
              "          1.14982207,  1.19540258,  1.24361202,  1.2948992 ,  1.34983904,\n",
              "          1.40918581,  1.4739582 ,  1.54558238,  1.62614848,  1.71891041,\n",
              "          1.829376  ,  1.96810538,  2.16005351,  2.49269012]),\n",
              "  array([-91.19381895, -86.26711035, -73.57461719, -72.52537398,\n",
              "         -72.10328279, -62.47509089, -57.63811625, -56.73004599,\n",
              "         -54.90679606, -54.75137366, -53.69869852, -52.37693069,\n",
              "         -52.11313314, -49.09643273, -40.43971799, -39.4132869 ,\n",
              "         -36.83691983, -35.3121876 , -27.37693069, -27.21166212,\n",
              "         -26.49371233, -24.83987695, -22.88072178, -22.83292909,\n",
              "         -18.21795272, -18.11313314, -16.51046841, -14.73275353,\n",
              "         -14.14972979, -13.77007249,  -9.57594648,  -9.00028008,\n",
              "          -8.7958762 ,  -8.73924431,  -8.12535055,  -7.22795017,\n",
              "          -7.00028008,  -6.09643273,  -6.0535677 ,  -6.04572127,\n",
              "          -5.09442996,  -4.99383111,  -4.44236987,  -3.45288527,\n",
              "          -3.37693069,  -2.96628198,  -1.83955819,  -1.81266929,\n",
              "          -1.58778008,  -1.34047748,  -1.24266929,  -1.19381895,\n",
              "          -0.42671182,  -0.12557702,   0.21741361,   0.28248116,\n",
              "           0.29740644,   2.35805716,   2.39072947,   2.59301689,\n",
              "           4.3541149 ,   4.59992433,   5.30377014,   5.71553705,\n",
              "           6.27171146,   6.35271241,   7.68308347,   8.51901499,\n",
              "           8.58012305,   8.90540048,   9.08809462,   9.6326479 ,\n",
              "           9.77204983,  11.15891024,  11.16044181,  11.20713649,\n",
              "          11.89727577,  12.15693164,  12.69999078,  12.79868423,\n",
              "          15.10339959,  17.5867131 ,  19.52244134,  19.6878124 ,\n",
              "          20.77725508,  21.19520333,  21.69061416,  21.97178287,\n",
              "          22.25719633,  22.85027021,  27.54711473,  28.7721184 ,\n",
              "          30.30968711,  31.94725508,  32.18779351,  32.71553705,\n",
              "          32.79868423,  33.04971992,  33.83757884,  34.31623507,\n",
              "          34.46527643,  37.80618105,  37.93928948,  39.60519589,\n",
              "          47.39176281,  50.12719633,  64.23992751,  64.98002811,\n",
              "          80.41594884])),\n",
              " (31.988851950544717, -2.1655746599795007, 0.9817128504125928))"
            ]
          },
          "metadata": {},
          "execution_count": 42
        },
        {
          "output_type": "display_data",
          "data": {
            "text/plain": [
              "<Figure size 432x288 with 1 Axes>"
            ],
            "image/png": "[encoded data removed]"
          },
          "metadata": {
            "needs_background": "light"
          }
        }
      ]
    },
    {
      "cell_type": "code",
      "source": [
        "# Let us prepare a model by applying transformation on dependent variable without transformation on input variables \n",
        "model4 = LinearRegression()\n",
        "model4.fit(X = wcat.Waist.values.reshape(-1,1),y=wcat.AT_sqrt)\n",
        "pred4 = model4.predict(wcat.Waist.values.reshape(-1,1))"
      ],
      "metadata": {
        "id": "PWk_dF3peBOh"
      },
      "execution_count": 43,
      "outputs": []
    },
    {
      "cell_type": "code",
      "source": [
        "# Adjusted R-Squared value\n",
        "model4.score(wcat.Waist.values.reshape(-1,1),wcat.AT_sqrt)# 0.7096\n",
        "rmse4 = np.sqrt(np.mean(((pred4)**2-wcat.AT)**2)) # 34.165\n",
        "model4.coef_\n",
        "model4.intercept_"
      ],
      "metadata": {
        "colab": {
          "base_uri": "https://localhost:8080/"
        },
        "id": "mKIdkZSSeEsF",
        "outputId": "5864e84b-12d9-45e3-a7cc-f74fe6a442cc"
      },
      "execution_count": 44,
      "outputs": [
        {
          "output_type": "execute_result",
          "data": {
            "text/plain": [
              "-6.898398342272847"
            ]
          },
          "metadata": {},
          "execution_count": 44
        }
      ]
    },
    {
      "cell_type": "code",
      "source": [
        "#### Residuals Vs Fitted values\n",
        "import matplotlib.pyplot as plt\n",
        "plt.scatter((pred4)**2,((pred4)**2-wcat.AT),c=\"r\")\n",
        "plt.hlines(y=0,xmin=0,xmax=300)  \n",
        "\n",
        "st.probplot((pred4)**2-wcat.AT,dist=\"norm\",plot=pylab)"
      ],
      "metadata": {
        "colab": {
          "base_uri": "https://localhost:8080/",
          "height": 1000
        },
        "id": "h6rtQno7eH_t",
        "outputId": "c753328c-9893-48ef-8a59-407d620432df"
      },
      "execution_count": 45,
      "outputs": [
        {
          "output_type": "execute_result",
          "data": {
            "text/plain": [
              "((array([-2.49269012, -2.16005351, -1.96810538, -1.829376  , -1.71891041,\n",
              "         -1.62614848, -1.54558238, -1.4739582 , -1.40918581, -1.34983904,\n",
              "         -1.2948992 , -1.24361202, -1.19540258, -1.14982207, -1.10651298,\n",
              "         -1.06518563, -1.02560179, -0.98756301, -0.95090206, -0.9154766 ,\n",
              "         -0.88116436, -0.84785944, -0.81546946, -0.78391323, -0.75311899,\n",
              "         -0.72302293, -0.69356797, -0.66470285, -0.63638125, -0.60856118,\n",
              "         -0.58120436, -0.55427579, -0.52774332, -0.5015773 , -0.47575031,\n",
              "         -0.45023686, -0.42501321, -0.40005714, -0.3753478 , -0.35086557,\n",
              "         -0.32659187, -0.30250912, -0.27860058, -0.25485026, -0.23124286,\n",
              "         -0.20776364, -0.18439842, -0.16113345, -0.13795538, -0.1148512 ,\n",
              "         -0.09180817, -0.06881379, -0.04585574, -0.02292185,  0.        ,\n",
              "          0.02292185,  0.04585574,  0.06881379,  0.09180817,  0.1148512 ,\n",
              "          0.13795538,  0.16113345,  0.18439842,  0.20776364,  0.23124286,\n",
              "          0.25485026,  0.27860058,  0.30250912,  0.32659187,  0.35086557,\n",
              "          0.3753478 ,  0.40005714,  0.42501321,  0.45023686,  0.47575031,\n",
              "          0.5015773 ,  0.52774332,  0.55427579,  0.58120436,  0.60856118,\n",
              "          0.63638125,  0.66470285,  0.69356797,  0.72302293,  0.75311899,\n",
              "          0.78391323,  0.81546946,  0.84785944,  0.88116436,  0.9154766 ,\n",
              "          0.95090206,  0.98756301,  1.02560179,  1.06518563,  1.10651298,\n",
              "          1.14982207,  1.19540258,  1.24361202,  1.2948992 ,  1.34983904,\n",
              "          1.40918581,  1.4739582 ,  1.54558238,  1.62614848,  1.71891041,\n",
              "          1.829376  ,  1.96810538,  2.16005351,  2.49269012]),\n",
              "  array([-9.18176507e+01, -7.99698038e+01, -6.58512166e+01, -6.49731551e+01,\n",
              "         -6.43437799e+01, -6.38352196e+01, -6.15436472e+01, -6.13664459e+01,\n",
              "         -6.00274940e+01, -5.95706503e+01, -5.88785705e+01, -5.09072058e+01,\n",
              "         -5.03317015e+01, -4.76031627e+01, -4.34966492e+01, -3.37265418e+01,\n",
              "         -3.14637061e+01, -2.93114998e+01, -2.90091486e+01, -2.65321278e+01,\n",
              "         -2.62931432e+01, -2.60274940e+01, -2.53574947e+01, -2.48250014e+01,\n",
              "         -2.46388919e+01, -2.33056593e+01, -2.26031627e+01, -2.24350599e+01,\n",
              "         -2.01701527e+01, -1.81701527e+01, -1.73782654e+01, -1.65706503e+01,\n",
              "         -1.60744015e+01, -1.40562885e+01, -1.23806208e+01, -1.00895362e+01,\n",
              "         -9.06122932e+00, -8.55195891e+00, -7.95144086e+00, -7.47979259e+00,\n",
              "         -6.73458054e+00, -6.59105338e+00, -6.02105338e+00, -5.25413017e+00,\n",
              "         -5.01178298e+00, -4.90020929e+00, -4.79396321e+00, -4.19405869e+00,\n",
              "         -2.28530586e+00, -1.81765069e+00, -1.74315336e+00, -1.51974430e+00,\n",
              "         -1.12010374e+00,  2.45439849e-02,  3.27363366e-01,  9.25598539e-01,\n",
              "          1.25302029e+00,  1.39683727e+00,  1.47583409e+00,  1.78210855e+00,\n",
              "          2.40332720e+00,  3.18711509e+00,  5.08443384e+00,  6.37423888e+00,\n",
              "          7.12685676e+00,  7.26138210e+00,  7.46988023e+00,  8.46747856e+00,\n",
              "          8.47141697e+00,  9.27181642e+00,  1.06725781e+01,  1.08048074e+01,\n",
              "          1.14802557e+01,  1.18152513e+01,  1.21749986e+01,  1.24484737e+01,\n",
              "          1.32124160e+01,  1.35033508e+01,  1.43205913e+01,  1.50021320e+01,\n",
              "          1.63597537e+01,  1.67508757e+01,  1.75693541e+01,  1.78323590e+01,\n",
              "          1.87798347e+01,  1.88606581e+01,  1.90322482e+01,  1.98103398e+01,\n",
              "          2.09406608e+01,  2.18798473e+01,  2.34910735e+01,  2.42720983e+01,\n",
              "          2.50692322e+01,  2.56885002e+01,  2.59882170e+01,  2.72613821e+01,\n",
              "          2.81402372e+01,  3.00306581e+01,  3.32651157e+01,  3.60666583e+01,\n",
              "          3.62885200e+01,  3.64847235e+01,  3.71823493e+01,  4.13205913e+01,\n",
              "          4.76803398e+01,  5.10177028e+01,  6.56293792e+01,  1.10686469e+02,\n",
              "          1.24686904e+02])),\n",
              " (33.76599701300873, -2.423508011853132, 0.9723457374138192))"
            ]
          },
          "metadata": {},
          "execution_count": 45
        },
        {
          "output_type": "display_data",
          "data": {
            "text/plain": [
              "<Figure size 432x288 with 1 Axes>"
            ],
            "image/png": "[encoded data removed]"
          },
          "metadata": {
            "needs_background": "light"
          }
        }
      ]
    },
    {
      "cell_type": "code",
      "source": [
        "# Checking normal distribution for residuals \n",
        "plt.hist((pred4)**2-wcat.AT)\n"
      ],
      "metadata": {
        "colab": {
          "base_uri": "https://localhost:8080/",
          "height": 352
        },
        "id": "SbLO3tX2eNdP",
        "outputId": "b34db5b0-5438-4ad7-bec8-318a4bc1677c"
      },
      "execution_count": 46,
      "outputs": [
        {
          "output_type": "execute_result",
          "data": {
            "text/plain": [
              "(array([ 2., 11.,  6., 25., 37., 22.,  3.,  1.,  0.,  2.]),\n",
              " array([-91.81765069, -70.16719522, -48.51673975, -26.86628428,\n",
              "         -5.21582881,  16.43462666,  38.08508212,  59.73553759,\n",
              "         81.38599306, 103.03644853, 124.686904  ]),\n",
              " <a list of 10 Patch objects>)"
            ]
          },
          "metadata": {},
          "execution_count": 46
        },
        {
          "output_type": "display_data",
          "data": {
            "text/plain": [
              "<Figure size 432x288 with 1 Axes>"
            ],
            "image/png": "[encoded data removed]"
          },
          "metadata": {
            "needs_background": "light"
          }
        }
      ]
    }
  ]
}