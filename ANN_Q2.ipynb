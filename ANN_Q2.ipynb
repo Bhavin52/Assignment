{
  "nbformat": 4,
  "nbformat_minor": 0,
  "metadata": {
    "colab": {
      "name": "ANN_Q2.ipynb",
      "provenance": [],
      "collapsed_sections": [],
      "authorship_tag": "ABX9TyPslKtnYX8ebqkYsQrGFS8d",
      "include_colab_link": true
    },
    "kernelspec": {
      "name": "python3",
      "display_name": "Python 3"
    },
    "language_info": {
      "name": "python"
    }
  },
  "cells": [
    {
      "cell_type": "markdown",
      "metadata": {
        "id": "view-in-github",
        "colab_type": "text"
      },
      "source": [
        "<a href=\"https://colab.research.google.com/github/Bhavin52/Case_Study/blob/main/ANN_Q2.ipynb\" target=\"_parent\"><img src=\"https://colab.research.google.com/assets/colab-badge.svg\" alt=\"Open In Colab\"/></a>"
      ]
    },
    {
      "cell_type": "code",
      "execution_count": 73,
      "metadata": {
        "id": "xDurdhUwXHi0"
      },
      "outputs": [],
      "source": [
        "import numpy as np\n",
        "import pandas as pd\n",
        "import matplotlib.pyplot as plt"
      ]
    },
    {
      "cell_type": "code",
      "source": [
        "plt.style.use('seaborn')\n",
        "import seaborn as sns"
      ],
      "metadata": {
        "id": "kXGx0KpkXQrC"
      },
      "execution_count": 74,
      "outputs": []
    },
    {
      "cell_type": "code",
      "source": [
        "from sklearn.preprocessing import LabelEncoder, StandardScaler, MinMaxScaler"
      ],
      "metadata": {
        "id": "YFYjj55YXVMx"
      },
      "execution_count": 75,
      "outputs": []
    },
    {
      "cell_type": "code",
      "source": [
        "from sklearn.model_selection import train_test_split\n",
        "from sklearn.metrics import r2_score"
      ],
      "metadata": {
        "id": "Iuk7xs7oXX2t"
      },
      "execution_count": 76,
      "outputs": []
    },
    {
      "cell_type": "markdown",
      "source": [
        "Packages for ANN"
      ],
      "metadata": {
        "id": "Hyb8ja04XcPj"
      }
    },
    {
      "cell_type": "code",
      "source": [
        "import tensorflow as tensorflow\n",
        "from keras.models import Sequential \n",
        "from keras.layers import Dense, Dropout\n",
        "from tensorflow import keras"
      ],
      "metadata": {
        "id": "AbS8XzFUXbi4"
      },
      "execution_count": 77,
      "outputs": []
    },
    {
      "cell_type": "code",
      "source": [
        "from tensorflow.keras import layers\n",
        "from tensorflow.keras.optimizers import SGD\n",
        "from tensorflow.keras.utils import to_categorical\n",
        "from keras.callbacks import EarlyStopping"
      ],
      "metadata": {
        "id": "m3WDVdQ1XhbA"
      },
      "execution_count": 78,
      "outputs": []
    },
    {
      "cell_type": "code",
      "source": [
        "from keras.callbacks import ModelCheckpoint\n",
        "from keras.utils.vis_utils import plot_model"
      ],
      "metadata": {
        "id": "4W1AR2cYXk98"
      },
      "execution_count": 79,
      "outputs": []
    },
    {
      "cell_type": "markdown",
      "source": [
        "1.0 read and understand the data set"
      ],
      "metadata": {
        "id": "SfcNL4DtbX1s"
      }
    },
    {
      "cell_type": "code",
      "source": [
        "df = pd.read_csv(\"/content/forestfires.csv\")\n",
        "df.shape"
      ],
      "metadata": {
        "colab": {
          "base_uri": "https://localhost:8080/"
        },
        "id": "9YXOKgqyXnPb",
        "outputId": "0a1a7cb0-4182-4087-8fbc-61b84fc4b573"
      },
      "execution_count": 80,
      "outputs": [
        {
          "output_type": "execute_result",
          "data": {
            "text/plain": [
              "(517, 13)"
            ]
          },
          "metadata": {},
          "execution_count": 80
        }
      ]
    },
    {
      "cell_type": "code",
      "source": [
        "df.info()"
      ],
      "metadata": {
        "colab": {
          "base_uri": "https://localhost:8080/"
        },
        "id": "IWKRG4KEc6m1",
        "outputId": "afac896c-1eba-43eb-a7ea-f677c593be34"
      },
      "execution_count": 81,
      "outputs": [
        {
          "output_type": "stream",
          "name": "stdout",
          "text": [
            "<class 'pandas.core.frame.DataFrame'>\n",
            "RangeIndex: 517 entries, 0 to 516\n",
            "Data columns (total 13 columns):\n",
            " #   Column  Non-Null Count  Dtype  \n",
            "---  ------  --------------  -----  \n",
            " 0   X       517 non-null    int64  \n",
            " 1   Y       517 non-null    int64  \n",
            " 2   month   517 non-null    object \n",
            " 3   day     517 non-null    object \n",
            " 4   FFMC    517 non-null    float64\n",
            " 5   DMC     517 non-null    float64\n",
            " 6   DC      517 non-null    float64\n",
            " 7   ISI     517 non-null    float64\n",
            " 8   temp    517 non-null    float64\n",
            " 9   RH      517 non-null    int64  \n",
            " 10  wind    517 non-null    float64\n",
            " 11  rain    517 non-null    float64\n",
            " 12  area    517 non-null    float64\n",
            "dtypes: float64(8), int64(3), object(2)\n",
            "memory usage: 52.6+ KB\n"
          ]
        }
      ]
    },
    {
      "cell_type": "code",
      "source": [
        "df.head()"
      ],
      "metadata": {
        "colab": {
          "base_uri": "https://localhost:8080/",
          "height": 206
        },
        "id": "JVR9t89mXxgK",
        "outputId": "c3afac80-a1a6-403e-8879-203b723de628"
      },
      "execution_count": 82,
      "outputs": [
        {
          "output_type": "execute_result",
          "data": {
            "text/plain": [
              "   X  Y month  day  FFMC   DMC     DC  ISI  temp  RH  wind  rain  area\n",
              "0  7  5   mar  fri  86.2  26.2   94.3  5.1   8.2  51   6.7   0.0   0.0\n",
              "1  7  4   oct  tue  90.6  35.4  669.1  6.7  18.0  33   0.9   0.0   0.0\n",
              "2  7  4   oct  sat  90.6  43.7  686.9  6.7  14.6  33   1.3   0.0   0.0\n",
              "3  8  6   mar  fri  91.7  33.3   77.5  9.0   8.3  97   4.0   0.2   0.0\n",
              "4  8  6   mar  sun  89.3  51.3  102.2  9.6  11.4  99   1.8   0.0   0.0"
            ],
            "text/html": [
              "\n",
              "  <div id=\"df-1688322f-9611-476e-8217-23eabca8824c\">\n",
              "    <div class=\"colab-df-container\">\n",
              "      <div>\n",
              "<style scoped>\n",
              "    .dataframe tbody tr th:only-of-type {\n",
              "        vertical-align: middle;\n",
              "    }\n",
              "\n",
              "    .dataframe tbody tr th {\n",
              "        vertical-align: top;\n",
              "    }\n",
              "\n",
              "    .dataframe thead th {\n",
              "        text-align: right;\n",
              "    }\n",
              "</style>\n",
              "<table border=\"1\" class=\"dataframe\">\n",
              "  <thead>\n",
              "    <tr style=\"text-align: right;\">\n",
              "      <th></th>\n",
              "      <th>X</th>\n",
              "      <th>Y</th>\n",
              "      <th>month</th>\n",
              "      <th>day</th>\n",
              "      <th>FFMC</th>\n",
              "      <th>DMC</th>\n",
              "      <th>DC</th>\n",
              "      <th>ISI</th>\n",
              "      <th>temp</th>\n",
              "      <th>RH</th>\n",
              "      <th>wind</th>\n",
              "      <th>rain</th>\n",
              "      <th>area</th>\n",
              "    </tr>\n",
              "  </thead>\n",
              "  <tbody>\n",
              "    <tr>\n",
              "      <th>0</th>\n",
              "      <td>7</td>\n",
              "      <td>5</td>\n",
              "      <td>mar</td>\n",
              "      <td>fri</td>\n",
              "      <td>86.2</td>\n",
              "      <td>26.2</td>\n",
              "      <td>94.3</td>\n",
              "      <td>5.1</td>\n",
              "      <td>8.2</td>\n",
              "      <td>51</td>\n",
              "      <td>6.7</td>\n",
              "      <td>0.0</td>\n",
              "      <td>0.0</td>\n",
              "    </tr>\n",
              "    <tr>\n",
              "      <th>1</th>\n",
              "      <td>7</td>\n",
              "      <td>4</td>\n",
              "      <td>oct</td>\n",
              "      <td>tue</td>\n",
              "      <td>90.6</td>\n",
              "      <td>35.4</td>\n",
              "      <td>669.1</td>\n",
              "      <td>6.7</td>\n",
              "      <td>18.0</td>\n",
              "      <td>33</td>\n",
              "      <td>0.9</td>\n",
              "      <td>0.0</td>\n",
              "      <td>0.0</td>\n",
              "    </tr>\n",
              "    <tr>\n",
              "      <th>2</th>\n",
              "      <td>7</td>\n",
              "      <td>4</td>\n",
              "      <td>oct</td>\n",
              "      <td>sat</td>\n",
              "      <td>90.6</td>\n",
              "      <td>43.7</td>\n",
              "      <td>686.9</td>\n",
              "      <td>6.7</td>\n",
              "      <td>14.6</td>\n",
              "      <td>33</td>\n",
              "      <td>1.3</td>\n",
              "      <td>0.0</td>\n",
              "      <td>0.0</td>\n",
              "    </tr>\n",
              "    <tr>\n",
              "      <th>3</th>\n",
              "      <td>8</td>\n",
              "      <td>6</td>\n",
              "      <td>mar</td>\n",
              "      <td>fri</td>\n",
              "      <td>91.7</td>\n",
              "      <td>33.3</td>\n",
              "      <td>77.5</td>\n",
              "      <td>9.0</td>\n",
              "      <td>8.3</td>\n",
              "      <td>97</td>\n",
              "      <td>4.0</td>\n",
              "      <td>0.2</td>\n",
              "      <td>0.0</td>\n",
              "    </tr>\n",
              "    <tr>\n",
              "      <th>4</th>\n",
              "      <td>8</td>\n",
              "      <td>6</td>\n",
              "      <td>mar</td>\n",
              "      <td>sun</td>\n",
              "      <td>89.3</td>\n",
              "      <td>51.3</td>\n",
              "      <td>102.2</td>\n",
              "      <td>9.6</td>\n",
              "      <td>11.4</td>\n",
              "      <td>99</td>\n",
              "      <td>1.8</td>\n",
              "      <td>0.0</td>\n",
              "      <td>0.0</td>\n",
              "    </tr>\n",
              "  </tbody>\n",
              "</table>\n",
              "</div>\n",
              "      <button class=\"colab-df-convert\" onclick=\"convertToInteractive('df-1688322f-9611-476e-8217-23eabca8824c')\"\n",
              "              title=\"Convert this dataframe to an interactive table.\"\n",
              "              style=\"display:none;\">\n",
              "        \n",
              "  <svg xmlns=\"http://www.w3.org/2000/svg\" height=\"24px\"viewBox=\"0 0 24 24\"\n",
              "       width=\"24px\">\n",
              "    <path d=\"M0 0h24v24H0V0z\" fill=\"none\"/>\n",
              "    <path d=\"M18.56 5.44l.94 2.06.94-2.06 2.06-.94-2.06-.94-.94-2.06-.94 2.06-2.06.94zm-11 1L8.5 8.5l.94-2.06 2.06-.94-2.06-.94L8.5 2.5l-.94 2.06-2.06.94zm10 10l.94 2.06.94-2.06 2.06-.94-2.06-.94-.94-2.06-.94 2.06-2.06.94z\"/><path d=\"M17.41 7.96l-1.37-1.37c-.4-.4-.92-.59-1.43-.59-.52 0-1.04.2-1.43.59L10.3 9.45l-7.72 7.72c-.78.78-.78 2.05 0 2.83L4 21.41c.39.39.9.59 1.41.59.51 0 1.02-.2 1.41-.59l7.78-7.78 2.81-2.81c.8-.78.8-2.07 0-2.86zM5.41 20L4 18.59l7.72-7.72 1.47 1.35L5.41 20z\"/>\n",
              "  </svg>\n",
              "      </button>\n",
              "      \n",
              "  <style>\n",
              "    .colab-df-container {\n",
              "      display:flex;\n",
              "      flex-wrap:wrap;\n",
              "      gap: 12px;\n",
              "    }\n",
              "\n",
              "    .colab-df-convert {\n",
              "      background-color: #E8F0FE;\n",
              "      border: none;\n",
              "      border-radius: 50%;\n",
              "      cursor: pointer;\n",
              "      display: none;\n",
              "      fill: #1967D2;\n",
              "      height: 32px;\n",
              "      padding: 0 0 0 0;\n",
              "      width: 32px;\n",
              "    }\n",
              "\n",
              "    .colab-df-convert:hover {\n",
              "      background-color: #E2EBFA;\n",
              "      box-shadow: 0px 1px 2px rgba(60, 64, 67, 0.3), 0px 1px 3px 1px rgba(60, 64, 67, 0.15);\n",
              "      fill: #174EA6;\n",
              "    }\n",
              "\n",
              "    [theme=dark] .colab-df-convert {\n",
              "      background-color: #3B4455;\n",
              "      fill: #D2E3FC;\n",
              "    }\n",
              "\n",
              "    [theme=dark] .colab-df-convert:hover {\n",
              "      background-color: #434B5C;\n",
              "      box-shadow: 0px 1px 3px 1px rgba(0, 0, 0, 0.15);\n",
              "      filter: drop-shadow(0px 1px 2px rgba(0, 0, 0, 0.3));\n",
              "      fill: #FFFFFF;\n",
              "    }\n",
              "  </style>\n",
              "\n",
              "      <script>\n",
              "        const buttonEl =\n",
              "          document.querySelector('#df-1688322f-9611-476e-8217-23eabca8824c button.colab-df-convert');\n",
              "        buttonEl.style.display =\n",
              "          google.colab.kernel.accessAllowed ? 'block' : 'none';\n",
              "\n",
              "        async function convertToInteractive(key) {\n",
              "          const element = document.querySelector('#df-1688322f-9611-476e-8217-23eabca8824c');\n",
              "          const dataTable =\n",
              "            await google.colab.kernel.invokeFunction('convertToInteractive',\n",
              "                                                     [key], {});\n",
              "          if (!dataTable) return;\n",
              "\n",
              "          const docLinkHtml = 'Like what you see? Visit the ' +\n",
              "            '<a target=\"_blank\" href=https://colab.research.google.com/notebooks/data_table.ipynb>data table notebook</a>'\n",
              "            + ' to learn more about interactive tables.';\n",
              "          element.innerHTML = '';\n",
              "          dataTable['output_type'] = 'display_data';\n",
              "          await google.colab.output.renderOutput(dataTable, element);\n",
              "          const docLink = document.createElement('div');\n",
              "          docLink.innerHTML = docLinkHtml;\n",
              "          element.appendChild(docLink);\n",
              "        }\n",
              "      </script>\n",
              "    </div>\n",
              "  </div>\n",
              "  "
            ]
          },
          "metadata": {},
          "execution_count": 82
        }
      ]
    },
    {
      "cell_type": "markdown",
      "source": [
        "2.0 Data Processing\n",
        "\n",
        "2.1 convert categorical to numerical for column size_category"
      ],
      "metadata": {
        "id": "1zpk4pxnaprm"
      }
    },
    {
      "cell_type": "code",
      "source": [
        "df['size_category'] = np.where(df['area']>6, '1', '0')\n",
        "df['size_category']= pd.to_numeric(df['size_category'])\n",
        "df.tail(10)"
      ],
      "metadata": {
        "colab": {
          "base_uri": "https://localhost:8080/",
          "height": 363
        },
        "id": "KllSn3p0X2pr",
        "outputId": "52424bf6-9bd0-4a73-cb81-ad06ca7fcf74"
      },
      "execution_count": 83,
      "outputs": [
        {
          "output_type": "execute_result",
          "data": {
            "text/plain": [
              "     X  Y month  day  FFMC    DMC     DC   ISI  temp  RH  wind  rain   area  \\\n",
              "507  2  4   aug  fri  91.0  166.9  752.6   7.1  25.9  41   3.6   0.0   0.00   \n",
              "508  1  2   aug  fri  91.0  166.9  752.6   7.1  25.9  41   3.6   0.0   0.00   \n",
              "509  5  4   aug  fri  91.0  166.9  752.6   7.1  21.1  71   7.6   1.4   2.17   \n",
              "510  6  5   aug  fri  91.0  166.9  752.6   7.1  18.2  62   5.4   0.0   0.43   \n",
              "511  8  6   aug  sun  81.6   56.7  665.6   1.9  27.8  35   2.7   0.0   0.00   \n",
              "512  4  3   aug  sun  81.6   56.7  665.6   1.9  27.8  32   2.7   0.0   6.44   \n",
              "513  2  4   aug  sun  81.6   56.7  665.6   1.9  21.9  71   5.8   0.0  54.29   \n",
              "514  7  4   aug  sun  81.6   56.7  665.6   1.9  21.2  70   6.7   0.0  11.16   \n",
              "515  1  4   aug  sat  94.4  146.0  614.7  11.3  25.6  42   4.0   0.0   0.00   \n",
              "516  6  3   nov  tue  79.5    3.0  106.7   1.1  11.8  31   4.5   0.0   0.00   \n",
              "\n",
              "     size_category  \n",
              "507              0  \n",
              "508              0  \n",
              "509              0  \n",
              "510              0  \n",
              "511              0  \n",
              "512              1  \n",
              "513              1  \n",
              "514              1  \n",
              "515              0  \n",
              "516              0  "
            ],
            "text/html": [
              "\n",
              "  <div id=\"df-b0cea589-e50e-409a-a852-d8c82dc97072\">\n",
              "    <div class=\"colab-df-container\">\n",
              "      <div>\n",
              "<style scoped>\n",
              "    .dataframe tbody tr th:only-of-type {\n",
              "        vertical-align: middle;\n",
              "    }\n",
              "\n",
              "    .dataframe tbody tr th {\n",
              "        vertical-align: top;\n",
              "    }\n",
              "\n",
              "    .dataframe thead th {\n",
              "        text-align: right;\n",
              "    }\n",
              "</style>\n",
              "<table border=\"1\" class=\"dataframe\">\n",
              "  <thead>\n",
              "    <tr style=\"text-align: right;\">\n",
              "      <th></th>\n",
              "      <th>X</th>\n",
              "      <th>Y</th>\n",
              "      <th>month</th>\n",
              "      <th>day</th>\n",
              "      <th>FFMC</th>\n",
              "      <th>DMC</th>\n",
              "      <th>DC</th>\n",
              "      <th>ISI</th>\n",
              "      <th>temp</th>\n",
              "      <th>RH</th>\n",
              "      <th>wind</th>\n",
              "      <th>rain</th>\n",
              "      <th>area</th>\n",
              "      <th>size_category</th>\n",
              "    </tr>\n",
              "  </thead>\n",
              "  <tbody>\n",
              "    <tr>\n",
              "      <th>507</th>\n",
              "      <td>2</td>\n",
              "      <td>4</td>\n",
              "      <td>aug</td>\n",
              "      <td>fri</td>\n",
              "      <td>91.0</td>\n",
              "      <td>166.9</td>\n",
              "      <td>752.6</td>\n",
              "      <td>7.1</td>\n",
              "      <td>25.9</td>\n",
              "      <td>41</td>\n",
              "      <td>3.6</td>\n",
              "      <td>0.0</td>\n",
              "      <td>0.00</td>\n",
              "      <td>0</td>\n",
              "    </tr>\n",
              "    <tr>\n",
              "      <th>508</th>\n",
              "      <td>1</td>\n",
              "      <td>2</td>\n",
              "      <td>aug</td>\n",
              "      <td>fri</td>\n",
              "      <td>91.0</td>\n",
              "      <td>166.9</td>\n",
              "      <td>752.6</td>\n",
              "      <td>7.1</td>\n",
              "      <td>25.9</td>\n",
              "      <td>41</td>\n",
              "      <td>3.6</td>\n",
              "      <td>0.0</td>\n",
              "      <td>0.00</td>\n",
              "      <td>0</td>\n",
              "    </tr>\n",
              "    <tr>\n",
              "      <th>509</th>\n",
              "      <td>5</td>\n",
              "      <td>4</td>\n",
              "      <td>aug</td>\n",
              "      <td>fri</td>\n",
              "      <td>91.0</td>\n",
              "      <td>166.9</td>\n",
              "      <td>752.6</td>\n",
              "      <td>7.1</td>\n",
              "      <td>21.1</td>\n",
              "      <td>71</td>\n",
              "      <td>7.6</td>\n",
              "      <td>1.4</td>\n",
              "      <td>2.17</td>\n",
              "      <td>0</td>\n",
              "    </tr>\n",
              "    <tr>\n",
              "      <th>510</th>\n",
              "      <td>6</td>\n",
              "      <td>5</td>\n",
              "      <td>aug</td>\n",
              "      <td>fri</td>\n",
              "      <td>91.0</td>\n",
              "      <td>166.9</td>\n",
              "      <td>752.6</td>\n",
              "      <td>7.1</td>\n",
              "      <td>18.2</td>\n",
              "      <td>62</td>\n",
              "      <td>5.4</td>\n",
              "      <td>0.0</td>\n",
              "      <td>0.43</td>\n",
              "      <td>0</td>\n",
              "    </tr>\n",
              "    <tr>\n",
              "      <th>511</th>\n",
              "      <td>8</td>\n",
              "      <td>6</td>\n",
              "      <td>aug</td>\n",
              "      <td>sun</td>\n",
              "      <td>81.6</td>\n",
              "      <td>56.7</td>\n",
              "      <td>665.6</td>\n",
              "      <td>1.9</td>\n",
              "      <td>27.8</td>\n",
              "      <td>35</td>\n",
              "      <td>2.7</td>\n",
              "      <td>0.0</td>\n",
              "      <td>0.00</td>\n",
              "      <td>0</td>\n",
              "    </tr>\n",
              "    <tr>\n",
              "      <th>512</th>\n",
              "      <td>4</td>\n",
              "      <td>3</td>\n",
              "      <td>aug</td>\n",
              "      <td>sun</td>\n",
              "      <td>81.6</td>\n",
              "      <td>56.7</td>\n",
              "      <td>665.6</td>\n",
              "      <td>1.9</td>\n",
              "      <td>27.8</td>\n",
              "      <td>32</td>\n",
              "      <td>2.7</td>\n",
              "      <td>0.0</td>\n",
              "      <td>6.44</td>\n",
              "      <td>1</td>\n",
              "    </tr>\n",
              "    <tr>\n",
              "      <th>513</th>\n",
              "      <td>2</td>\n",
              "      <td>4</td>\n",
              "      <td>aug</td>\n",
              "      <td>sun</td>\n",
              "      <td>81.6</td>\n",
              "      <td>56.7</td>\n",
              "      <td>665.6</td>\n",
              "      <td>1.9</td>\n",
              "      <td>21.9</td>\n",
              "      <td>71</td>\n",
              "      <td>5.8</td>\n",
              "      <td>0.0</td>\n",
              "      <td>54.29</td>\n",
              "      <td>1</td>\n",
              "    </tr>\n",
              "    <tr>\n",
              "      <th>514</th>\n",
              "      <td>7</td>\n",
              "      <td>4</td>\n",
              "      <td>aug</td>\n",
              "      <td>sun</td>\n",
              "      <td>81.6</td>\n",
              "      <td>56.7</td>\n",
              "      <td>665.6</td>\n",
              "      <td>1.9</td>\n",
              "      <td>21.2</td>\n",
              "      <td>70</td>\n",
              "      <td>6.7</td>\n",
              "      <td>0.0</td>\n",
              "      <td>11.16</td>\n",
              "      <td>1</td>\n",
              "    </tr>\n",
              "    <tr>\n",
              "      <th>515</th>\n",
              "      <td>1</td>\n",
              "      <td>4</td>\n",
              "      <td>aug</td>\n",
              "      <td>sat</td>\n",
              "      <td>94.4</td>\n",
              "      <td>146.0</td>\n",
              "      <td>614.7</td>\n",
              "      <td>11.3</td>\n",
              "      <td>25.6</td>\n",
              "      <td>42</td>\n",
              "      <td>4.0</td>\n",
              "      <td>0.0</td>\n",
              "      <td>0.00</td>\n",
              "      <td>0</td>\n",
              "    </tr>\n",
              "    <tr>\n",
              "      <th>516</th>\n",
              "      <td>6</td>\n",
              "      <td>3</td>\n",
              "      <td>nov</td>\n",
              "      <td>tue</td>\n",
              "      <td>79.5</td>\n",
              "      <td>3.0</td>\n",
              "      <td>106.7</td>\n",
              "      <td>1.1</td>\n",
              "      <td>11.8</td>\n",
              "      <td>31</td>\n",
              "      <td>4.5</td>\n",
              "      <td>0.0</td>\n",
              "      <td>0.00</td>\n",
              "      <td>0</td>\n",
              "    </tr>\n",
              "  </tbody>\n",
              "</table>\n",
              "</div>\n",
              "      <button class=\"colab-df-convert\" onclick=\"convertToInteractive('df-b0cea589-e50e-409a-a852-d8c82dc97072')\"\n",
              "              title=\"Convert this dataframe to an interactive table.\"\n",
              "              style=\"display:none;\">\n",
              "        \n",
              "  <svg xmlns=\"http://www.w3.org/2000/svg\" height=\"24px\"viewBox=\"0 0 24 24\"\n",
              "       width=\"24px\">\n",
              "    <path d=\"M0 0h24v24H0V0z\" fill=\"none\"/>\n",
              "    <path d=\"M18.56 5.44l.94 2.06.94-2.06 2.06-.94-2.06-.94-.94-2.06-.94 2.06-2.06.94zm-11 1L8.5 8.5l.94-2.06 2.06-.94-2.06-.94L8.5 2.5l-.94 2.06-2.06.94zm10 10l.94 2.06.94-2.06 2.06-.94-2.06-.94-.94-2.06-.94 2.06-2.06.94z\"/><path d=\"M17.41 7.96l-1.37-1.37c-.4-.4-.92-.59-1.43-.59-.52 0-1.04.2-1.43.59L10.3 9.45l-7.72 7.72c-.78.78-.78 2.05 0 2.83L4 21.41c.39.39.9.59 1.41.59.51 0 1.02-.2 1.41-.59l7.78-7.78 2.81-2.81c.8-.78.8-2.07 0-2.86zM5.41 20L4 18.59l7.72-7.72 1.47 1.35L5.41 20z\"/>\n",
              "  </svg>\n",
              "      </button>\n",
              "      \n",
              "  <style>\n",
              "    .colab-df-container {\n",
              "      display:flex;\n",
              "      flex-wrap:wrap;\n",
              "      gap: 12px;\n",
              "    }\n",
              "\n",
              "    .colab-df-convert {\n",
              "      background-color: #E8F0FE;\n",
              "      border: none;\n",
              "      border-radius: 50%;\n",
              "      cursor: pointer;\n",
              "      display: none;\n",
              "      fill: #1967D2;\n",
              "      height: 32px;\n",
              "      padding: 0 0 0 0;\n",
              "      width: 32px;\n",
              "    }\n",
              "\n",
              "    .colab-df-convert:hover {\n",
              "      background-color: #E2EBFA;\n",
              "      box-shadow: 0px 1px 2px rgba(60, 64, 67, 0.3), 0px 1px 3px 1px rgba(60, 64, 67, 0.15);\n",
              "      fill: #174EA6;\n",
              "    }\n",
              "\n",
              "    [theme=dark] .colab-df-convert {\n",
              "      background-color: #3B4455;\n",
              "      fill: #D2E3FC;\n",
              "    }\n",
              "\n",
              "    [theme=dark] .colab-df-convert:hover {\n",
              "      background-color: #434B5C;\n",
              "      box-shadow: 0px 1px 3px 1px rgba(0, 0, 0, 0.15);\n",
              "      filter: drop-shadow(0px 1px 2px rgba(0, 0, 0, 0.3));\n",
              "      fill: #FFFFFF;\n",
              "    }\n",
              "  </style>\n",
              "\n",
              "      <script>\n",
              "        const buttonEl =\n",
              "          document.querySelector('#df-b0cea589-e50e-409a-a852-d8c82dc97072 button.colab-df-convert');\n",
              "        buttonEl.style.display =\n",
              "          google.colab.kernel.accessAllowed ? 'block' : 'none';\n",
              "\n",
              "        async function convertToInteractive(key) {\n",
              "          const element = document.querySelector('#df-b0cea589-e50e-409a-a852-d8c82dc97072');\n",
              "          const dataTable =\n",
              "            await google.colab.kernel.invokeFunction('convertToInteractive',\n",
              "                                                     [key], {});\n",
              "          if (!dataTable) return;\n",
              "\n",
              "          const docLinkHtml = 'Like what you see? Visit the ' +\n",
              "            '<a target=\"_blank\" href=https://colab.research.google.com/notebooks/data_table.ipynb>data table notebook</a>'\n",
              "            + ' to learn more about interactive tables.';\n",
              "          element.innerHTML = '';\n",
              "          dataTable['output_type'] = 'display_data';\n",
              "          await google.colab.output.renderOutput(dataTable, element);\n",
              "          const docLink = document.createElement('div');\n",
              "          docLink.innerHTML = docLinkHtml;\n",
              "          element.appendChild(docLink);\n",
              "        }\n",
              "      </script>\n",
              "    </div>\n",
              "  </div>\n",
              "  "
            ]
          },
          "metadata": {},
          "execution_count": 83
        }
      ]
    },
    {
      "cell_type": "code",
      "source": [
        "df.month.replace(('jan','feb','mar','apr','may','jun','jul','aug','sep','oct','nov','dec'),(1,2,3,4,5,6,7,8,9,10,11,12), inplace=True)"
      ],
      "metadata": {
        "id": "TfjqtCLKhI65"
      },
      "execution_count": 84,
      "outputs": []
    },
    {
      "cell_type": "markdown",
      "source": [
        "2.2 data Processing for days"
      ],
      "metadata": {
        "id": "aJTqDpFLbLtk"
      }
    },
    {
      "cell_type": "code",
      "source": [
        "# converting to is weekend\n",
        "df['day'] = ((df['day'] == 'sun') | (df['day'] == 'sat'))\n",
        "# renaming column\n",
        "df = df.rename(columns = {'day' : 'is_weekend'})\n",
        "# visualizing\n",
        "sns.countplot(df['is_weekend'])\n",
        "plt.title('Count plot of weekend vs weekday')"
      ],
      "metadata": {
        "colab": {
          "base_uri": "https://localhost:8080/",
          "height": 451
        },
        "id": "NPUgF23Ca21K",
        "outputId": "62080afc-52a6-419a-87c0-d90232a83f01"
      },
      "execution_count": 85,
      "outputs": [
        {
          "output_type": "stream",
          "name": "stderr",
          "text": [
            "/usr/local/lib/python3.7/dist-packages/seaborn/_decorators.py:43: FutureWarning: Pass the following variable as a keyword arg: x. From version 0.12, the only valid positional argument will be `data`, and passing other arguments without an explicit keyword will result in an error or misinterpretation.\n",
            "  FutureWarning\n"
          ]
        },
        {
          "output_type": "execute_result",
          "data": {
            "text/plain": [
              "Text(0.5, 1.0, 'Count plot of weekend vs weekday')"
            ]
          },
          "metadata": {},
          "execution_count": 85
        },
        {
          "output_type": "display_data",
          "data": {
            "text/plain": [
              "<Figure size 576x396 with 1 Axes>"
            ],
            "image/png": "[encoded data removed]"
          },
          "metadata": {}
        }
      ]
    },
    {
      "cell_type": "markdown",
      "source": [
        "2.3 scalling the area and rain"
      ],
      "metadata": {
        "id": "z2aV6huWcCz4"
      }
    },
    {
      "cell_type": "code",
      "source": [
        "# natural logarithm scaling (+1 to prevent errors at 0)\n",
        "df.loc[:, ['rain', 'area']] = df.loc[:, ['rain', 'area']].apply(lambda x: np.log(x + 1), axis = 1)\n",
        "# visualizing\n",
        "fig, ax = plt.subplots(2, figsize = (5, 8))\n",
        "ax[0].hist(df['rain'])\n",
        "ax[0].title.set_text('histogram of rain')\n",
        "ax[1].hist(df['area'])\n",
        "ax[1].title.set_text('histogram of area')"
      ],
      "metadata": {
        "colab": {
          "base_uri": "https://localhost:8080/",
          "height": 498
        },
        "id": "oOk1L88Ab2A9",
        "outputId": "dcc7f056-34d1-404a-e0c3-f3308506e804"
      },
      "execution_count": 86,
      "outputs": [
        {
          "output_type": "display_data",
          "data": {
            "text/plain": [
              "<Figure size 360x576 with 2 Axes>"
            ],
            "image/png": "[encoded data removed]"
          },
          "metadata": {}
        }
      ]
    },
    {
      "cell_type": "markdown",
      "source": [
        "2.4 Train test and split\n",
        "\n",
        "\n"
      ],
      "metadata": {
        "id": "EurhVwO-cTfQ"
      }
    },
    {
      "cell_type": "code",
      "source": [
        "features = df.drop(['size_category'], axis = 1)\n",
        "labels = df['size_category'].values.reshape(-1, 1)\n",
        "X_train, X_test, y_train, y_test = train_test_split(features,labels, test_size = 0.2, random_state = 42)"
      ],
      "metadata": {
        "id": "ioiipYCncIxk"
      },
      "execution_count": 87,
      "outputs": []
    },
    {
      "cell_type": "markdown",
      "source": [
        "2.5 Feature Scalling : Standard Scaller"
      ],
      "metadata": {
        "id": "9eeTe5Nock2Y"
      }
    },
    {
      "cell_type": "code",
      "source": [
        "# fitting scaler\n",
        "sc_features = StandardScaler()\n",
        "# transforming features\n",
        "X_test = sc_features.fit_transform(X_test)\n",
        "X_train = sc_features.transform(X_train)\n",
        "# features\n",
        "X_test = pd.DataFrame(X_test, columns = features.columns)\n",
        "X_train = pd.DataFrame(X_train, columns = features.columns)\n",
        "# labels\n",
        "y_test = pd.DataFrame(y_test, columns = ['size_category'])\n",
        "y_train = pd.DataFrame(y_train, columns = ['size_category'])\n",
        "X_train.head()"
      ],
      "metadata": {
        "colab": {
          "base_uri": "https://localhost:8080/",
          "height": 270
        },
        "id": "CGQei9KQf9KT",
        "outputId": "79a48cd5-a9e2-4397-f54d-d6bfd60ffd27"
      },
      "execution_count": 88,
      "outputs": [
        {
          "output_type": "execute_result",
          "data": {
            "text/plain": [
              "          X         Y     month  is_weekend      FFMC       DMC        DC  \\\n",
              "0 -0.293766 -0.927776  0.672240    1.404076  0.342959 -0.060220  0.867158   \n",
              "1 -0.293766 -0.161993  0.672240   -0.712212 -0.057456  0.370353  0.600021   \n",
              "2 -1.130796  0.603791  0.232536   -0.712212  0.312158  0.834731  0.483714   \n",
              "3 -0.712281 -0.161993  0.232536   -0.712212  1.544206  1.341810  0.537142   \n",
              "4  0.124750 -0.161993 -2.405688    1.404076 -1.320305 -1.602809 -2.022846   \n",
              "\n",
              "        ISI      temp        RH      wind      rain      area  \n",
              "0 -0.249015  0.784070 -1.071784 -0.054362 -0.137348  0.219260  \n",
              "1 -0.465731 -0.203920 -0.279375 -1.042369 -0.137348  0.177491  \n",
              "2  0.664288  0.221938  0.248898 -0.054362 -0.137348  0.180797  \n",
              "3  0.664288  2.283090 -1.071784 -1.042369 -0.137348  1.087255  \n",
              "4 -0.945602 -1.106740  0.645102 -1.042369 -0.137348  0.578923  "
            ],
            "text/html": [
              "\n",
              "  <div id=\"df-73974f66-6c19-499a-9f91-c8ba76edf9d4\">\n",
              "    <div class=\"colab-df-container\">\n",
              "      <div>\n",
              "<style scoped>\n",
              "    .dataframe tbody tr th:only-of-type {\n",
              "        vertical-align: middle;\n",
              "    }\n",
              "\n",
              "    .dataframe tbody tr th {\n",
              "        vertical-align: top;\n",
              "    }\n",
              "\n",
              "    .dataframe thead th {\n",
              "        text-align: right;\n",
              "    }\n",
              "</style>\n",
              "<table border=\"1\" class=\"dataframe\">\n",
              "  <thead>\n",
              "    <tr style=\"text-align: right;\">\n",
              "      <th></th>\n",
              "      <th>X</th>\n",
              "      <th>Y</th>\n",
              "      <th>month</th>\n",
              "      <th>is_weekend</th>\n",
              "      <th>FFMC</th>\n",
              "      <th>DMC</th>\n",
              "      <th>DC</th>\n",
              "      <th>ISI</th>\n",
              "      <th>temp</th>\n",
              "      <th>RH</th>\n",
              "      <th>wind</th>\n",
              "      <th>rain</th>\n",
              "      <th>area</th>\n",
              "    </tr>\n",
              "  </thead>\n",
              "  <tbody>\n",
              "    <tr>\n",
              "      <th>0</th>\n",
              "      <td>-0.293766</td>\n",
              "      <td>-0.927776</td>\n",
              "      <td>0.672240</td>\n",
              "      <td>1.404076</td>\n",
              "      <td>0.342959</td>\n",
              "      <td>-0.060220</td>\n",
              "      <td>0.867158</td>\n",
              "      <td>-0.249015</td>\n",
              "      <td>0.784070</td>\n",
              "      <td>-1.071784</td>\n",
              "      <td>-0.054362</td>\n",
              "      <td>-0.137348</td>\n",
              "      <td>0.219260</td>\n",
              "    </tr>\n",
              "    <tr>\n",
              "      <th>1</th>\n",
              "      <td>-0.293766</td>\n",
              "      <td>-0.161993</td>\n",
              "      <td>0.672240</td>\n",
              "      <td>-0.712212</td>\n",
              "      <td>-0.057456</td>\n",
              "      <td>0.370353</td>\n",
              "      <td>0.600021</td>\n",
              "      <td>-0.465731</td>\n",
              "      <td>-0.203920</td>\n",
              "      <td>-0.279375</td>\n",
              "      <td>-1.042369</td>\n",
              "      <td>-0.137348</td>\n",
              "      <td>0.177491</td>\n",
              "    </tr>\n",
              "    <tr>\n",
              "      <th>2</th>\n",
              "      <td>-1.130796</td>\n",
              "      <td>0.603791</td>\n",
              "      <td>0.232536</td>\n",
              "      <td>-0.712212</td>\n",
              "      <td>0.312158</td>\n",
              "      <td>0.834731</td>\n",
              "      <td>0.483714</td>\n",
              "      <td>0.664288</td>\n",
              "      <td>0.221938</td>\n",
              "      <td>0.248898</td>\n",
              "      <td>-0.054362</td>\n",
              "      <td>-0.137348</td>\n",
              "      <td>0.180797</td>\n",
              "    </tr>\n",
              "    <tr>\n",
              "      <th>3</th>\n",
              "      <td>-0.712281</td>\n",
              "      <td>-0.161993</td>\n",
              "      <td>0.232536</td>\n",
              "      <td>-0.712212</td>\n",
              "      <td>1.544206</td>\n",
              "      <td>1.341810</td>\n",
              "      <td>0.537142</td>\n",
              "      <td>0.664288</td>\n",
              "      <td>2.283090</td>\n",
              "      <td>-1.071784</td>\n",
              "      <td>-1.042369</td>\n",
              "      <td>-0.137348</td>\n",
              "      <td>1.087255</td>\n",
              "    </tr>\n",
              "    <tr>\n",
              "      <th>4</th>\n",
              "      <td>0.124750</td>\n",
              "      <td>-0.161993</td>\n",
              "      <td>-2.405688</td>\n",
              "      <td>1.404076</td>\n",
              "      <td>-1.320305</td>\n",
              "      <td>-1.602809</td>\n",
              "      <td>-2.022846</td>\n",
              "      <td>-0.945602</td>\n",
              "      <td>-1.106740</td>\n",
              "      <td>0.645102</td>\n",
              "      <td>-1.042369</td>\n",
              "      <td>-0.137348</td>\n",
              "      <td>0.578923</td>\n",
              "    </tr>\n",
              "  </tbody>\n",
              "</table>\n",
              "</div>\n",
              "      <button class=\"colab-df-convert\" onclick=\"convertToInteractive('df-73974f66-6c19-499a-9f91-c8ba76edf9d4')\"\n",
              "              title=\"Convert this dataframe to an interactive table.\"\n",
              "              style=\"display:none;\">\n",
              "        \n",
              "  <svg xmlns=\"http://www.w3.org/2000/svg\" height=\"24px\"viewBox=\"0 0 24 24\"\n",
              "       width=\"24px\">\n",
              "    <path d=\"M0 0h24v24H0V0z\" fill=\"none\"/>\n",
              "    <path d=\"M18.56 5.44l.94 2.06.94-2.06 2.06-.94-2.06-.94-.94-2.06-.94 2.06-2.06.94zm-11 1L8.5 8.5l.94-2.06 2.06-.94-2.06-.94L8.5 2.5l-.94 2.06-2.06.94zm10 10l.94 2.06.94-2.06 2.06-.94-2.06-.94-.94-2.06-.94 2.06-2.06.94z\"/><path d=\"M17.41 7.96l-1.37-1.37c-.4-.4-.92-.59-1.43-.59-.52 0-1.04.2-1.43.59L10.3 9.45l-7.72 7.72c-.78.78-.78 2.05 0 2.83L4 21.41c.39.39.9.59 1.41.59.51 0 1.02-.2 1.41-.59l7.78-7.78 2.81-2.81c.8-.78.8-2.07 0-2.86zM5.41 20L4 18.59l7.72-7.72 1.47 1.35L5.41 20z\"/>\n",
              "  </svg>\n",
              "      </button>\n",
              "      \n",
              "  <style>\n",
              "    .colab-df-container {\n",
              "      display:flex;\n",
              "      flex-wrap:wrap;\n",
              "      gap: 12px;\n",
              "    }\n",
              "\n",
              "    .colab-df-convert {\n",
              "      background-color: #E8F0FE;\n",
              "      border: none;\n",
              "      border-radius: 50%;\n",
              "      cursor: pointer;\n",
              "      display: none;\n",
              "      fill: #1967D2;\n",
              "      height: 32px;\n",
              "      padding: 0 0 0 0;\n",
              "      width: 32px;\n",
              "    }\n",
              "\n",
              "    .colab-df-convert:hover {\n",
              "      background-color: #E2EBFA;\n",
              "      box-shadow: 0px 1px 2px rgba(60, 64, 67, 0.3), 0px 1px 3px 1px rgba(60, 64, 67, 0.15);\n",
              "      fill: #174EA6;\n",
              "    }\n",
              "\n",
              "    [theme=dark] .colab-df-convert {\n",
              "      background-color: #3B4455;\n",
              "      fill: #D2E3FC;\n",
              "    }\n",
              "\n",
              "    [theme=dark] .colab-df-convert:hover {\n",
              "      background-color: #434B5C;\n",
              "      box-shadow: 0px 1px 3px 1px rgba(0, 0, 0, 0.15);\n",
              "      filter: drop-shadow(0px 1px 2px rgba(0, 0, 0, 0.3));\n",
              "      fill: #FFFFFF;\n",
              "    }\n",
              "  </style>\n",
              "\n",
              "      <script>\n",
              "        const buttonEl =\n",
              "          document.querySelector('#df-73974f66-6c19-499a-9f91-c8ba76edf9d4 button.colab-df-convert');\n",
              "        buttonEl.style.display =\n",
              "          google.colab.kernel.accessAllowed ? 'block' : 'none';\n",
              "\n",
              "        async function convertToInteractive(key) {\n",
              "          const element = document.querySelector('#df-73974f66-6c19-499a-9f91-c8ba76edf9d4');\n",
              "          const dataTable =\n",
              "            await google.colab.kernel.invokeFunction('convertToInteractive',\n",
              "                                                     [key], {});\n",
              "          if (!dataTable) return;\n",
              "\n",
              "          const docLinkHtml = 'Like what you see? Visit the ' +\n",
              "            '<a target=\"_blank\" href=https://colab.research.google.com/notebooks/data_table.ipynb>data table notebook</a>'\n",
              "            + ' to learn more about interactive tables.';\n",
              "          element.innerHTML = '';\n",
              "          dataTable['output_type'] = 'display_data';\n",
              "          await google.colab.output.renderOutput(dataTable, element);\n",
              "          const docLink = document.createElement('div');\n",
              "          docLink.innerHTML = docLinkHtml;\n",
              "          element.appendChild(docLink);\n",
              "        }\n",
              "      </script>\n",
              "    </div>\n",
              "  </div>\n",
              "  "
            ]
          },
          "metadata": {},
          "execution_count": 88
        }
      ]
    },
    {
      "cell_type": "markdown",
      "source": [
        "3: Hyperparameter/ Experiment Results"
      ],
      "metadata": {
        "id": "P9MKf6kphbu_"
      }
    },
    {
      "cell_type": "markdown",
      "source": [
        "3.1 Base Model"
      ],
      "metadata": {
        "id": "-2ouLRzGhgYt"
      }
    },
    {
      "cell_type": "code",
      "source": [
        "model = Sequential()\n",
        "# input layer + 1st hidden layer\n",
        "model.add(Dense(6, input_dim=13, activation='relu'))\n",
        "# 2nd hidden layer\n",
        "model.add(Dense(6, activation='relu'))\n",
        "# output layer\n",
        "model.add(Dense(6, activation='sigmoid'))\n",
        "model.add(Dropout(0.2))\n",
        "model.add(Dense(1, activation = 'relu'))\n",
        "model.summary()"
      ],
      "metadata": {
        "colab": {
          "base_uri": "https://localhost:8080/"
        },
        "id": "WIklkF07hXKT",
        "outputId": "2812bb3c-7d64-4327-e5cf-9c613a16c7a1"
      },
      "execution_count": 89,
      "outputs": [
        {
          "output_type": "stream",
          "name": "stdout",
          "text": [
            "Model: \"sequential\"\n",
            "_________________________________________________________________\n",
            " Layer (type)                Output Shape              Param #   \n",
            "=================================================================\n",
            " dense (Dense)               (None, 6)                 84        \n",
            "                                                                 \n",
            " dense_1 (Dense)             (None, 6)                 42        \n",
            "                                                                 \n",
            " dense_2 (Dense)             (None, 6)                 42        \n",
            "                                                                 \n",
            " dropout (Dropout)           (None, 6)                 0         \n",
            "                                                                 \n",
            " dense_3 (Dense)             (None, 1)                 7         \n",
            "                                                                 \n",
            "=================================================================\n",
            "Total params: 175\n",
            "Trainable params: 175\n",
            "Non-trainable params: 0\n",
            "_________________________________________________________________\n"
          ]
        }
      ]
    },
    {
      "cell_type": "code",
      "source": [
        "# Compile Model\n",
        "model.compile(optimizer = 'adam', metrics=['accuracy'], loss ='binary_crossentropy')\n",
        "# Train Model\n",
        "history = model.fit(X_train, y_train, validation_data = (X_test, y_test), batch_size = 10, epochs = 100)"
      ],
      "metadata": {
        "colab": {
          "base_uri": "https://localhost:8080/"
        },
        "id": "KWjIuGebhr5y",
        "outputId": "8ae989a8-d09b-4698-e1f5-708bf30a88f2"
      },
      "execution_count": 90,
      "outputs": [
        {
          "output_type": "stream",
          "name": "stdout",
          "text": [
            "Epoch 1/100\n",
            "42/42 [==============================] - 4s 36ms/step - loss: 3.4821 - accuracy: 0.7215 - val_loss: 3.2567 - val_accuracy: 0.7308\n",
            "Epoch 2/100\n",
            "42/42 [==============================] - 0s 3ms/step - loss: 2.3307 - accuracy: 0.7215 - val_loss: 1.0647 - val_accuracy: 0.7308\n",
            "Epoch 3/100\n",
            "42/42 [==============================] - 0s 3ms/step - loss: 1.6816 - accuracy: 0.7337 - val_loss: 0.5597 - val_accuracy: 0.7308\n",
            "Epoch 4/100\n",
            "42/42 [==============================] - 0s 3ms/step - loss: 1.0881 - accuracy: 0.7119 - val_loss: 0.5103 - val_accuracy: 0.7308\n",
            "Epoch 5/100\n",
            "42/42 [==============================] - 0s 3ms/step - loss: 1.3795 - accuracy: 0.6925 - val_loss: 0.5007 - val_accuracy: 0.7308\n",
            "Epoch 6/100\n",
            "42/42 [==============================] - 0s 3ms/step - loss: 1.2892 - accuracy: 0.6804 - val_loss: 0.4920 - val_accuracy: 0.7500\n",
            "Epoch 7/100\n",
            "42/42 [==============================] - 0s 3ms/step - loss: 1.2654 - accuracy: 0.6973 - val_loss: 0.4831 - val_accuracy: 0.7500\n",
            "Epoch 8/100\n",
            "42/42 [==============================] - 0s 3ms/step - loss: 1.0731 - accuracy: 0.7337 - val_loss: 0.4762 - val_accuracy: 0.7500\n",
            "Epoch 9/100\n",
            "42/42 [==============================] - 0s 3ms/step - loss: 0.7984 - accuracy: 0.6998 - val_loss: 0.4663 - val_accuracy: 0.7500\n",
            "Epoch 10/100\n",
            "42/42 [==============================] - 0s 3ms/step - loss: 1.1746 - accuracy: 0.7312 - val_loss: 0.4551 - val_accuracy: 0.7596\n",
            "Epoch 11/100\n",
            "42/42 [==============================] - 0s 3ms/step - loss: 1.3397 - accuracy: 0.7337 - val_loss: 0.4451 - val_accuracy: 0.7596\n",
            "Epoch 12/100\n",
            "42/42 [==============================] - 0s 3ms/step - loss: 0.9064 - accuracy: 0.7506 - val_loss: 0.4316 - val_accuracy: 0.7596\n",
            "Epoch 13/100\n",
            "42/42 [==============================] - 0s 3ms/step - loss: 0.8834 - accuracy: 0.7579 - val_loss: 0.4176 - val_accuracy: 0.7692\n",
            "Epoch 14/100\n",
            "42/42 [==============================] - 0s 3ms/step - loss: 0.9954 - accuracy: 0.7772 - val_loss: 0.4072 - val_accuracy: 0.7885\n",
            "Epoch 15/100\n",
            "42/42 [==============================] - 0s 3ms/step - loss: 0.7389 - accuracy: 0.7772 - val_loss: 0.3919 - val_accuracy: 0.8269\n",
            "Epoch 16/100\n",
            "42/42 [==============================] - 0s 4ms/step - loss: 0.7550 - accuracy: 0.7772 - val_loss: 0.3743 - val_accuracy: 0.8462\n",
            "Epoch 17/100\n",
            "42/42 [==============================] - 0s 3ms/step - loss: 0.7900 - accuracy: 0.7869 - val_loss: 0.3526 - val_accuracy: 0.8462\n",
            "Epoch 18/100\n",
            "42/42 [==============================] - 0s 3ms/step - loss: 0.9790 - accuracy: 0.7893 - val_loss: 0.3329 - val_accuracy: 0.8558\n",
            "Epoch 19/100\n",
            "42/42 [==============================] - 0s 3ms/step - loss: 0.6093 - accuracy: 0.8063 - val_loss: 0.3155 - val_accuracy: 0.8750\n",
            "Epoch 20/100\n",
            "42/42 [==============================] - 0s 2ms/step - loss: 0.5893 - accuracy: 0.8329 - val_loss: 0.3115 - val_accuracy: 0.8846\n",
            "Epoch 21/100\n",
            "42/42 [==============================] - 0s 3ms/step - loss: 0.5321 - accuracy: 0.8499 - val_loss: 0.2836 - val_accuracy: 0.8846\n",
            "Epoch 22/100\n",
            "42/42 [==============================] - 0s 3ms/step - loss: 0.5232 - accuracy: 0.8596 - val_loss: 0.2709 - val_accuracy: 0.9038\n",
            "Epoch 23/100\n",
            "42/42 [==============================] - 0s 3ms/step - loss: 0.3968 - accuracy: 0.8499 - val_loss: 0.2585 - val_accuracy: 0.9135\n",
            "Epoch 24/100\n",
            "42/42 [==============================] - 0s 3ms/step - loss: 0.3264 - accuracy: 0.8741 - val_loss: 0.2438 - val_accuracy: 0.9231\n",
            "Epoch 25/100\n",
            "42/42 [==============================] - 0s 3ms/step - loss: 0.3989 - accuracy: 0.8571 - val_loss: 0.2412 - val_accuracy: 0.9231\n",
            "Epoch 26/100\n",
            "42/42 [==============================] - 0s 3ms/step - loss: 0.3752 - accuracy: 0.8765 - val_loss: 0.2261 - val_accuracy: 0.9327\n",
            "Epoch 27/100\n",
            "42/42 [==============================] - 0s 3ms/step - loss: 0.2916 - accuracy: 0.9007 - val_loss: 0.2158 - val_accuracy: 0.9327\n",
            "Epoch 28/100\n",
            "42/42 [==============================] - 0s 3ms/step - loss: 0.3037 - accuracy: 0.8814 - val_loss: 0.2048 - val_accuracy: 0.9327\n",
            "Epoch 29/100\n",
            "42/42 [==============================] - 0s 3ms/step - loss: 0.2446 - accuracy: 0.8910 - val_loss: 0.1963 - val_accuracy: 0.9327\n",
            "Epoch 30/100\n",
            "42/42 [==============================] - 0s 3ms/step - loss: 0.2517 - accuracy: 0.8959 - val_loss: 0.1886 - val_accuracy: 0.9327\n",
            "Epoch 31/100\n",
            "42/42 [==============================] - 0s 3ms/step - loss: 0.2317 - accuracy: 0.9153 - val_loss: 0.1804 - val_accuracy: 0.9423\n",
            "Epoch 32/100\n",
            "42/42 [==============================] - 0s 3ms/step - loss: 0.2303 - accuracy: 0.9056 - val_loss: 0.1724 - val_accuracy: 0.9423\n",
            "Epoch 33/100\n",
            "42/42 [==============================] - 0s 3ms/step - loss: 0.3004 - accuracy: 0.9056 - val_loss: 0.1666 - val_accuracy: 0.9423\n",
            "Epoch 34/100\n",
            "42/42 [==============================] - 0s 3ms/step - loss: 0.2668 - accuracy: 0.9104 - val_loss: 0.1608 - val_accuracy: 0.9423\n",
            "Epoch 35/100\n",
            "42/42 [==============================] - 0s 2ms/step - loss: 0.1906 - accuracy: 0.9322 - val_loss: 0.1564 - val_accuracy: 0.9423\n",
            "Epoch 36/100\n",
            "42/42 [==============================] - 0s 3ms/step - loss: 0.1775 - accuracy: 0.9346 - val_loss: 0.1507 - val_accuracy: 0.9519\n",
            "Epoch 37/100\n",
            "42/42 [==============================] - 0s 3ms/step - loss: 0.2181 - accuracy: 0.9395 - val_loss: 0.1489 - val_accuracy: 0.9519\n",
            "Epoch 38/100\n",
            "42/42 [==============================] - 0s 3ms/step - loss: 0.1789 - accuracy: 0.9395 - val_loss: 0.1471 - val_accuracy: 0.9519\n",
            "Epoch 39/100\n",
            "42/42 [==============================] - 0s 3ms/step - loss: 0.2655 - accuracy: 0.9322 - val_loss: 0.1548 - val_accuracy: 0.9519\n",
            "Epoch 40/100\n",
            "42/42 [==============================] - 0s 3ms/step - loss: 0.2056 - accuracy: 0.9467 - val_loss: 0.1892 - val_accuracy: 0.9519\n",
            "Epoch 41/100\n",
            "42/42 [==============================] - 0s 3ms/step - loss: 0.1559 - accuracy: 0.9419 - val_loss: 0.2602 - val_accuracy: 0.9519\n",
            "Epoch 42/100\n",
            "42/42 [==============================] - 0s 3ms/step - loss: 0.1366 - accuracy: 0.9443 - val_loss: 0.2562 - val_accuracy: 0.9519\n",
            "Epoch 43/100\n",
            "42/42 [==============================] - 0s 3ms/step - loss: 0.2038 - accuracy: 0.9395 - val_loss: 0.2538 - val_accuracy: 0.9519\n",
            "Epoch 44/100\n",
            "42/42 [==============================] - 0s 2ms/step - loss: 0.1701 - accuracy: 0.9516 - val_loss: 0.2579 - val_accuracy: 0.9519\n",
            "Epoch 45/100\n",
            "42/42 [==============================] - 0s 3ms/step - loss: 0.1967 - accuracy: 0.9613 - val_loss: 0.2487 - val_accuracy: 0.9423\n",
            "Epoch 46/100\n",
            "42/42 [==============================] - 0s 3ms/step - loss: 0.1559 - accuracy: 0.9443 - val_loss: 0.2679 - val_accuracy: 0.9519\n",
            "Epoch 47/100\n",
            "42/42 [==============================] - 0s 3ms/step - loss: 0.1683 - accuracy: 0.9467 - val_loss: 0.3547 - val_accuracy: 0.9519\n",
            "Epoch 48/100\n",
            "42/42 [==============================] - 0s 3ms/step - loss: 0.1331 - accuracy: 0.9395 - val_loss: 0.3522 - val_accuracy: 0.9519\n",
            "Epoch 49/100\n",
            "42/42 [==============================] - 0s 3ms/step - loss: 0.0974 - accuracy: 0.9540 - val_loss: 0.3498 - val_accuracy: 0.9615\n",
            "Epoch 50/100\n",
            "42/42 [==============================] - 0s 3ms/step - loss: 0.1311 - accuracy: 0.9661 - val_loss: 0.3478 - val_accuracy: 0.9519\n",
            "Epoch 51/100\n",
            "42/42 [==============================] - 0s 3ms/step - loss: 0.1895 - accuracy: 0.9370 - val_loss: 0.3461 - val_accuracy: 0.9615\n",
            "Epoch 52/100\n",
            "42/42 [==============================] - 0s 3ms/step - loss: 0.1317 - accuracy: 0.9613 - val_loss: 0.3440 - val_accuracy: 0.9615\n",
            "Epoch 53/100\n",
            "42/42 [==============================] - 0s 2ms/step - loss: 0.2001 - accuracy: 0.9564 - val_loss: 0.3421 - val_accuracy: 0.9615\n",
            "Epoch 54/100\n",
            "42/42 [==============================] - 0s 3ms/step - loss: 0.1677 - accuracy: 0.9637 - val_loss: 0.3421 - val_accuracy: 0.9615\n",
            "Epoch 55/100\n",
            "42/42 [==============================] - 0s 3ms/step - loss: 0.1739 - accuracy: 0.9637 - val_loss: 0.3410 - val_accuracy: 0.9615\n",
            "Epoch 56/100\n",
            "42/42 [==============================] - 0s 3ms/step - loss: 0.1167 - accuracy: 0.9661 - val_loss: 0.3401 - val_accuracy: 0.9615\n",
            "Epoch 57/100\n",
            "42/42 [==============================] - 0s 3ms/step - loss: 0.1666 - accuracy: 0.9516 - val_loss: 0.3409 - val_accuracy: 0.9615\n",
            "Epoch 58/100\n",
            "42/42 [==============================] - 0s 3ms/step - loss: 0.1238 - accuracy: 0.9709 - val_loss: 0.3405 - val_accuracy: 0.9615\n",
            "Epoch 59/100\n",
            "42/42 [==============================] - 0s 3ms/step - loss: 0.1171 - accuracy: 0.9685 - val_loss: 0.3397 - val_accuracy: 0.9615\n",
            "Epoch 60/100\n",
            "42/42 [==============================] - 0s 3ms/step - loss: 0.1269 - accuracy: 0.9661 - val_loss: 0.3389 - val_accuracy: 0.9615\n",
            "Epoch 61/100\n",
            "42/42 [==============================] - 0s 3ms/step - loss: 0.1527 - accuracy: 0.9637 - val_loss: 0.2212 - val_accuracy: 0.9615\n",
            "Epoch 62/100\n",
            "42/42 [==============================] - 0s 3ms/step - loss: 0.1056 - accuracy: 0.9782 - val_loss: 0.2414 - val_accuracy: 0.9615\n",
            "Epoch 63/100\n",
            "42/42 [==============================] - 0s 3ms/step - loss: 0.1121 - accuracy: 0.9709 - val_loss: 0.3373 - val_accuracy: 0.9615\n",
            "Epoch 64/100\n",
            "42/42 [==============================] - 0s 3ms/step - loss: 0.1124 - accuracy: 0.9758 - val_loss: 0.3355 - val_accuracy: 0.9615\n",
            "Epoch 65/100\n",
            "42/42 [==============================] - 0s 3ms/step - loss: 0.1153 - accuracy: 0.9758 - val_loss: 0.3361 - val_accuracy: 0.9615\n",
            "Epoch 66/100\n",
            "42/42 [==============================] - 0s 3ms/step - loss: 0.1484 - accuracy: 0.9709 - val_loss: 0.3361 - val_accuracy: 0.9615\n",
            "Epoch 67/100\n",
            "42/42 [==============================] - 0s 3ms/step - loss: 0.1155 - accuracy: 0.9709 - val_loss: 0.3357 - val_accuracy: 0.9615\n",
            "Epoch 68/100\n",
            "42/42 [==============================] - 0s 3ms/step - loss: 0.1040 - accuracy: 0.9758 - val_loss: 0.3359 - val_accuracy: 0.9615\n",
            "Epoch 69/100\n",
            "42/42 [==============================] - 0s 3ms/step - loss: 0.1779 - accuracy: 0.9516 - val_loss: 0.3402 - val_accuracy: 0.9615\n",
            "Epoch 70/100\n",
            "42/42 [==============================] - 0s 3ms/step - loss: 0.1298 - accuracy: 0.9709 - val_loss: 0.3395 - val_accuracy: 0.9519\n",
            "Epoch 71/100\n",
            "42/42 [==============================] - 0s 3ms/step - loss: 0.0685 - accuracy: 0.9782 - val_loss: 0.3386 - val_accuracy: 0.9519\n",
            "Epoch 72/100\n",
            "42/42 [==============================] - 0s 3ms/step - loss: 0.0968 - accuracy: 0.9758 - val_loss: 0.3383 - val_accuracy: 0.9519\n",
            "Epoch 73/100\n",
            "42/42 [==============================] - 0s 3ms/step - loss: 0.0844 - accuracy: 0.9637 - val_loss: 0.3382 - val_accuracy: 0.9519\n",
            "Epoch 74/100\n",
            "42/42 [==============================] - 0s 3ms/step - loss: 0.0864 - accuracy: 0.9613 - val_loss: 0.3382 - val_accuracy: 0.9519\n",
            "Epoch 75/100\n",
            "42/42 [==============================] - 0s 3ms/step - loss: 0.0777 - accuracy: 0.9734 - val_loss: 0.3512 - val_accuracy: 0.9615\n",
            "Epoch 76/100\n",
            "42/42 [==============================] - 0s 3ms/step - loss: 0.1650 - accuracy: 0.9637 - val_loss: 0.3489 - val_accuracy: 0.9519\n",
            "Epoch 77/100\n",
            "42/42 [==============================] - 0s 3ms/step - loss: 0.1123 - accuracy: 0.9734 - val_loss: 0.3464 - val_accuracy: 0.9423\n",
            "Epoch 78/100\n",
            "42/42 [==============================] - 0s 11ms/step - loss: 0.0739 - accuracy: 0.9685 - val_loss: 0.3444 - val_accuracy: 0.9423\n",
            "Epoch 79/100\n",
            "42/42 [==============================] - 0s 7ms/step - loss: 0.0881 - accuracy: 0.9613 - val_loss: 0.3439 - val_accuracy: 0.9519\n",
            "Epoch 80/100\n",
            "42/42 [==============================] - 0s 7ms/step - loss: 0.0688 - accuracy: 0.9758 - val_loss: 0.3428 - val_accuracy: 0.9519\n",
            "Epoch 81/100\n",
            "42/42 [==============================] - 0s 3ms/step - loss: 0.0684 - accuracy: 0.9709 - val_loss: 0.3426 - val_accuracy: 0.9519\n",
            "Epoch 82/100\n",
            "42/42 [==============================] - 0s 3ms/step - loss: 0.0614 - accuracy: 0.9782 - val_loss: 0.3415 - val_accuracy: 0.9519\n",
            "Epoch 83/100\n",
            "42/42 [==============================] - 0s 3ms/step - loss: 0.0703 - accuracy: 0.9758 - val_loss: 0.3409 - val_accuracy: 0.9519\n",
            "Epoch 84/100\n",
            "42/42 [==============================] - 0s 3ms/step - loss: 0.0610 - accuracy: 0.9855 - val_loss: 0.3403 - val_accuracy: 0.9519\n",
            "Epoch 85/100\n",
            "42/42 [==============================] - 0s 3ms/step - loss: 0.0580 - accuracy: 0.9758 - val_loss: 0.3406 - val_accuracy: 0.9519\n",
            "Epoch 86/100\n",
            "42/42 [==============================] - 0s 3ms/step - loss: 0.0556 - accuracy: 0.9758 - val_loss: 0.3407 - val_accuracy: 0.9519\n",
            "Epoch 87/100\n",
            "42/42 [==============================] - 0s 3ms/step - loss: 0.0928 - accuracy: 0.9831 - val_loss: 0.3405 - val_accuracy: 0.9519\n",
            "Epoch 88/100\n",
            "42/42 [==============================] - 0s 3ms/step - loss: 0.0535 - accuracy: 0.9782 - val_loss: 0.3402 - val_accuracy: 0.9519\n",
            "Epoch 89/100\n",
            "42/42 [==============================] - 0s 3ms/step - loss: 0.0513 - accuracy: 0.9782 - val_loss: 0.3391 - val_accuracy: 0.9519\n",
            "Epoch 90/100\n",
            "42/42 [==============================] - 0s 3ms/step - loss: 0.0630 - accuracy: 0.9831 - val_loss: 0.3395 - val_accuracy: 0.9519\n",
            "Epoch 91/100\n",
            "42/42 [==============================] - 0s 3ms/step - loss: 0.0799 - accuracy: 0.9637 - val_loss: 0.3407 - val_accuracy: 0.9519\n",
            "Epoch 92/100\n",
            "42/42 [==============================] - 0s 3ms/step - loss: 0.0943 - accuracy: 0.9685 - val_loss: 0.3415 - val_accuracy: 0.9519\n",
            "Epoch 93/100\n",
            "42/42 [==============================] - 0s 3ms/step - loss: 0.0588 - accuracy: 0.9806 - val_loss: 0.3419 - val_accuracy: 0.9519\n",
            "Epoch 94/100\n",
            "42/42 [==============================] - 0s 3ms/step - loss: 0.0433 - accuracy: 0.9855 - val_loss: 0.3429 - val_accuracy: 0.9519\n",
            "Epoch 95/100\n",
            "42/42 [==============================] - 0s 3ms/step - loss: 0.0593 - accuracy: 0.9782 - val_loss: 0.3419 - val_accuracy: 0.9519\n",
            "Epoch 96/100\n",
            "42/42 [==============================] - 0s 3ms/step - loss: 0.0495 - accuracy: 0.9855 - val_loss: 0.3421 - val_accuracy: 0.9519\n",
            "Epoch 97/100\n",
            "42/42 [==============================] - 0s 3ms/step - loss: 0.0544 - accuracy: 0.9855 - val_loss: 0.3429 - val_accuracy: 0.9423\n",
            "Epoch 98/100\n",
            "42/42 [==============================] - 0s 3ms/step - loss: 0.0415 - accuracy: 0.9879 - val_loss: 0.3437 - val_accuracy: 0.9519\n",
            "Epoch 99/100\n",
            "42/42 [==============================] - 0s 4ms/step - loss: 0.0496 - accuracy: 0.9806 - val_loss: 0.3442 - val_accuracy: 0.9519\n",
            "Epoch 100/100\n",
            "42/42 [==============================] - 0s 3ms/step - loss: 0.0512 - accuracy: 0.9758 - val_loss: 0.3416 - val_accuracy: 0.9615\n"
          ]
        }
      ]
    },
    {
      "cell_type": "code",
      "source": [
        "_, train_acc = model.evaluate(X_train, y_train, verbose=0)\n",
        "_, valid_acc = model.evaluate(X_test, y_test, verbose=0)\n",
        "print('Train: %.3f, Valid: %.3f' % (train_acc, valid_acc))"
      ],
      "metadata": {
        "colab": {
          "base_uri": "https://localhost:8080/"
        },
        "id": "b_Q_OZDXh6B9",
        "outputId": "44e080eb-54f8-46d3-a33c-c28b55e7cd62"
      },
      "execution_count": 91,
      "outputs": [
        {
          "output_type": "stream",
          "name": "stdout",
          "text": [
            "Train: 0.990, Valid: 0.962\n"
          ]
        }
      ]
    },
    {
      "cell_type": "code",
      "source": [
        "plt.figure(figsize=[8,5])\n",
        "plt.plot(history.history['accuracy'], label='Train')\n",
        "plt.plot(history.history['val_accuracy'], label='Valid')\n",
        "plt.legend()\n",
        "plt.xlabel('Epochs', fontsize=16)\n",
        "plt.ylabel('Accuracy', fontsize=16)\n",
        "plt.title('Accuracy Curves Epoch 100, Batch Size 10', fontsize=16)\n",
        "plt.show()"
      ],
      "metadata": {
        "colab": {
          "base_uri": "https://localhost:8080/",
          "height": 357
        },
        "id": "NUhlnH9AiKJs",
        "outputId": "0b7a697d-ba23-46cb-eea7-ad784becf89e"
      },
      "execution_count": 92,
      "outputs": [
        {
          "output_type": "display_data",
          "data": {
            "text/plain": [
              "<Figure size 576x360 with 1 Axes>"
            ],
            "image/png": "[encoded data removed]"
          },
          "metadata": {}
        }
      ]
    },
    {
      "cell_type": "markdown",
      "source": [
        "3.2: Batch Size: 4, 6, 10, 16, 32, 64, 128, 260"
      ],
      "metadata": {
        "id": "jWpW8QiliW8F"
      }
    },
    {
      "cell_type": "code",
      "source": [
        "# Fit a model and plot learning curve\n",
        "def fit_model(X_train, y_train, X_test, y_test, n_batch):\n",
        "# Define Model\n",
        "model = keras.Sequential()\n",
        "model.add(Dense(6, input_dim=13, activation='relu'))\n",
        "model.add(Dense(6, activation='relu'))\n",
        "model.add(Dense(6, activation='sigmoid'))\n",
        "model.add(Dropout(0.2))\n",
        "model.add(Dense(1, activation = 'relu'))\n",
        "# Compile Model\n",
        "model.compile(optimizer = 'adam',\n",
        "metrics=['accuracy'],\n",
        "loss = 'binary_crossentropy')\n",
        "# Fit Model\n",
        "history = model.fit(X_train, y_train, validation_data=(X_test, y_test), epochs=100, verbose=0, batch_size=n_batch)\n",
        "# Plot Learning Curves\n",
        "plt.plot(history.history['accuracy'], label='train')\n",
        "plt.plot(history.history['val_accuracy'], label='test')\n",
        "plt.title('batch='+str(n_batch))\n",
        "plt.legend()\n",
        "# Create learning curves for different batch sizes\n",
        "batch_sizes = [4, 6, 10, 16, 32, 64, 128, 260]\n",
        "plt.figure(figsize=(10,15))\n",
        "for i in range(len(batch_sizes)):\n",
        "# Determine the Plot Number\n",
        "plot_no = 420 + (i+1)\n",
        "plt.subplot(plot_no)\n",
        "# Fit model and plot learning curves for a batch size\n",
        "fit_model(X_train, y_train, X_test, y_test, batch_sizes[i])\n",
        "# Show learning curves\n",
        "plt.show()"
      ],
      "metadata": {
        "id": "S_isQtWli-Ry"
      },
      "execution_count": null,
      "outputs": []
    },
    {
      "cell_type": "markdown",
      "source": [
        "3.3 Batch Size = 6, Epochs = 20, 50, 100, 120, 150, 200, 300, 400"
      ],
      "metadata": {
        "id": "20GhqgaDkO0_"
      }
    },
    {
      "cell_type": "code",
      "source": [
        "# fit a model and plot learning curve\n",
        "def fit_model(trainX, trainy, validX, validy, n_epoch):\n",
        "# define model\n",
        "model = Sequential()\n",
        "model.add(Dense(6, input_dim=13, activation='relu'))\n",
        "model.add(Dense(6, activation='relu'))\n",
        "model.add(Dense(6, activation='sigmoid'))\n",
        "model.add(Dropout(0.2))\n",
        "model.add(Dense(1, activation = 'relu'))\n",
        "# compile model\n",
        "model.compile(optimizer ='adam', metrics=['accuracy'], loss = 'binary_crossentropy')\n",
        "# fit model\n",
        "history = model.fit(X_train, y_train, validation_data=(X_test, y_test), epochs=n_epoch, verbose=0, batch_size=6)\n",
        "# plot learning curves\n",
        "plt.plot(history.history['accuracy'], label='train')\n",
        "plt.plot(history.history['val_accuracy'], label='test')\n",
        "plt.title('epoch='+str(n_epoch))\n",
        "plt.legend()\n",
        "# Create learning curves for different batch sizes\n",
        "epochs = [20, 50, 100, 120, 150, 200, 300, 400]\n",
        "plt.figure(figsize=(10,15))\n",
        "for i in range(len(batch_sizes)):\n",
        "# Determine the Plot Number\n",
        "plot_no = 420 + (i+1)\n",
        "plt.subplot(plot_no)\n",
        "# Fit model and plot learning curves for a batch size\n",
        "fit_model(X_train, y_train, X_test, y_test, epochs[i])\n",
        "# Show learning curves\n",
        "plt.show()"
      ],
      "metadata": {
        "id": "_1ASEs8TkKpv"
      },
      "execution_count": null,
      "outputs": []
    },
    {
      "cell_type": "markdown",
      "source": [
        "3.4 Batch Size = 6, Early Stopping (Patience, Model Checkpoint)"
      ],
      "metadata": {
        "id": "ePj5cLufkezG"
      }
    },
    {
      "cell_type": "code",
      "source": [
        "def init_model():\n",
        "# define model\n",
        "model = Sequential()\n",
        "model.add(Dense(6, input_dim=13, activation='relu'))\n",
        "model.add(Dense(6, activation='relu'))model.add(Dense(6, activation='sigmoid'))\n",
        "model.add(Dropout(0.2))\n",
        "model.add(Dense(1, activation = 'relu'))\n",
        "model.compile(optimizer ='adam',\n",
        "metrics=['accuracy'],\n",
        "loss = 'binary_crossentropy')\n",
        "return model\n",
        "# init model\n",
        "model = init_model()\n",
        "# simple early stopping\n",
        "es = EarlyStopping(monitor='val_loss', mode='min', verbose=1, patience=150)\n",
        "# model checkpoint\n",
        "mc = ModelCheckpoint('best_model.h5', monitor='val_accuracy', mode='max', verbose=1, save_best_only=True)\n",
        "# fitting model\n",
        "history = model.fit(X_train, y_train, validation_data=(X_test, y_test), epochs=250, verbose=0, batch_size=6, callbacks=[es, mc])"
      ],
      "metadata": {
        "id": "9CP_flKokWnI"
      },
      "execution_count": null,
      "outputs": []
    },
    {
      "cell_type": "code",
      "source": [
        "# plot training history\n",
        "plt.plot(history.history['loss'], label='train')\n",
        "plt.plot(history.history['val_loss'], label='valid')\n",
        "plt.legend()\n",
        "plt.xlabel('Epochs', fontsize=14)\n",
        "plt.ylabel('Loss', fontsize=14)\n",
        "plt.title('Loss Curves', fontsize=16)\n",
        "plt.show()"
      ],
      "metadata": {
        "colab": {
          "base_uri": "https://localhost:8080/",
          "height": 383
        },
        "id": "jFtdqvsWn7Qi",
        "outputId": "3343d534-9099-461e-fec5-2e0da94286f7"
      },
      "execution_count": 106,
      "outputs": [
        {
          "output_type": "display_data",
          "data": {
            "text/plain": [
              "<Figure size 576x396 with 1 Axes>"
            ],
            "image/png": "[encoded data removed]"
          },
          "metadata": {}
        }
      ]
    },
    {
      "cell_type": "code",
      "source": [
        "plt.figure(figsize=[8,5])\n",
        "plt.plot(history.history['accuracy'], label='Train')\n",
        "plt.plot(history.history['val_accuracy'], label='Valid')\n",
        "plt.legend()\n",
        "plt.xlabel('Epochs', fontsize=16)\n",
        "plt.ylabel('Accuracy', fontsize=16)\n",
        "plt.title('Accuracy Curves', fontsize=16)\n",
        "plt.show()"
      ],
      "metadata": {
        "colab": {
          "base_uri": "https://localhost:8080/",
          "height": 357
        },
        "id": "1fV3jnFVoGM2",
        "outputId": "3752507f-87a5-4a25-882b-d2fcf1d75193"
      },
      "execution_count": 107,
      "outputs": [
        {
          "output_type": "display_data",
          "data": {
            "text/plain": [
              "<Figure size 576x360 with 1 Axes>"
            ],
            "image/png": "[encoded data removed]"
          },
          "metadata": {}
        }
      ]
    },
    {
      "cell_type": "code",
      "source": [
        "_, train_acc = model.evaluate(X_train, y_train, verbose=0)\n",
        "_, valid_acc = model.evaluate(X_test, y_test, verbose=0)\n",
        "print('Train: %.3f, Valid: %.3f' % (train_acc, valid_acc))"
      ],
      "metadata": {
        "colab": {
          "base_uri": "https://localhost:8080/"
        },
        "id": "mXowxe0xoI5c",
        "outputId": "608653a0-754d-4a54-852e-4589df50671e"
      },
      "execution_count": 108,
      "outputs": [
        {
          "output_type": "stream",
          "name": "stdout",
          "text": [
            "Train: 0.990, Valid: 0.962\n"
          ]
        }
      ]
    }
  ]
}